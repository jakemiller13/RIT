{
 "cells": [
  {
   "cell_type": "markdown",
   "metadata": {},
   "source": [
    "# Problem 8.5"
   ]
  },
  {
   "cell_type": "markdown",
   "metadata": {},
   "source": [
    "Import required packages:"
   ]
  },
  {
   "cell_type": "code",
   "execution_count": 1,
   "metadata": {},
   "outputs": [],
   "source": [
    "import pandas as pd\n",
    "import numpy as np\n",
    "import patsy\n",
    "import statsmodels.api as sm"
   ]
  },
  {
   "cell_type": "markdown",
   "metadata": {},
   "source": [
    "Read in data, create X matrix and y vector:"
   ]
  },
  {
   "cell_type": "code",
   "execution_count": 2,
   "metadata": {},
   "outputs": [],
   "source": [
    "df = pd.read_excel('Data/data-table-B3.xlsx')\n",
    "y, X = patsy.dmatrices('y ~ x10 + x11', df)"
   ]
  },
  {
   "cell_type": "markdown",
   "metadata": {},
   "source": [
    "## 8.5.a"
   ]
  },
  {
   "cell_type": "markdown",
   "metadata": {},
   "source": [
    "Create linear regression model, print out results table:"
   ]
  },
  {
   "cell_type": "code",
   "execution_count": 3,
   "metadata": {},
   "outputs": [
    {
     "name": "stdout",
     "output_type": "stream",
     "text": [
      "                            OLS Regression Results                            \n",
      "==============================================================================\n",
      "Dep. Variable:                      y   R-squared:                       0.760\n",
      "Model:                            OLS   Adj. R-squared:                  0.743\n",
      "Method:                 Least Squares   F-statistic:                     45.91\n",
      "Date:                Tue, 07 Apr 2020   Prob (F-statistic):           1.03e-09\n",
      "Time:                        15:13:41   Log-Likelihood:                -81.056\n",
      "No. Observations:                  32   AIC:                             168.1\n",
      "Df Residuals:                      29   BIC:                             172.5\n",
      "Df Model:                           2                                         \n",
      "Covariance Type:            nonrobust                                         \n",
      "==============================================================================\n",
      "                 coef    std err          t      P>|t|      [0.025      0.975]\n",
      "------------------------------------------------------------------------------\n",
      "Intercept     39.1919      2.557     15.327      0.000      33.962      44.422\n",
      "x10           -0.0047      0.001     -4.975      0.000      -0.007      -0.003\n",
      "x11           -2.6958      1.981     -1.361      0.184      -6.747       1.355\n",
      "==============================================================================\n",
      "Omnibus:                        0.125   Durbin-Watson:                   2.164\n",
      "Prob(Omnibus):                  0.940   Jarque-Bera (JB):                0.292\n",
      "Skew:                           0.120   Prob(JB):                        0.864\n",
      "Kurtosis:                       2.598   Cond. No.                     1.85e+04\n",
      "==============================================================================\n",
      "\n",
      "Warnings:\n",
      "[1] Standard Errors assume that the covariance matrix of the errors is correctly specified.\n",
      "[2] The condition number is large, 1.85e+04. This might indicate that there are\n",
      "strong multicollinearity or other numerical problems.\n"
     ]
    }
   ],
   "source": [
    "model = sm.OLS(y, X)\n",
    "results = model.fit()\n",
    "results.model.data.design_info = X.design_info\n",
    "print(results.summary())"
   ]
  },
  {
   "cell_type": "markdown",
   "metadata": {},
   "source": [
    "Linear regression model, transmission not significant:"
   ]
  },
  {
   "cell_type": "code",
   "execution_count": 4,
   "metadata": {},
   "outputs": [
    {
     "name": "stdout",
     "output_type": "stream",
     "text": [
      "\n",
      "y = 39.192 + (-0.005 * x10) + (-2.696 * x11)\n",
      "No. High p-value [0.184], so transmission not significant\n",
      "\n"
     ]
    }
   ],
   "source": [
    "coef = np.round(results.params, 3)\n",
    "print('\\ny = {} + ({} * x10) + ({} * x11)'.format(coef[0], coef[1], coef[2]))\n",
    "print('No. High p-value [{}], so transmission not significant\\n'.\\\n",
    "      format(round(results.pvalues[2], 3)))"
   ]
  },
  {
   "cell_type": "markdown",
   "metadata": {},
   "source": [
    "## 8.5.b"
   ]
  },
  {
   "cell_type": "markdown",
   "metadata": {},
   "source": [
    "Add interaction term, create linear regression model, print out results:"
   ]
  },
  {
   "cell_type": "code",
   "execution_count": 5,
   "metadata": {},
   "outputs": [
    {
     "name": "stdout",
     "output_type": "stream",
     "text": [
      "                            OLS Regression Results                            \n",
      "==============================================================================\n",
      "Dep. Variable:                      y   R-squared:                       0.849\n",
      "Model:                            OLS   Adj. R-squared:                  0.833\n",
      "Method:                 Least Squares   F-statistic:                     52.63\n",
      "Date:                Tue, 07 Apr 2020   Prob (F-statistic):           1.24e-11\n",
      "Time:                        15:13:41   Log-Likelihood:                -73.602\n",
      "No. Observations:                  32   AIC:                             155.2\n",
      "Df Residuals:                      28   BIC:                             161.1\n",
      "Df Model:                           3                                         \n",
      "Covariance Type:            nonrobust                                         \n",
      "==============================================================================\n",
      "                 coef    std err          t      P>|t|      [0.025      0.975]\n",
      "------------------------------------------------------------------------------\n",
      "Intercept     58.1084      5.078     11.443      0.000      47.707      68.510\n",
      "x10           -0.0125      0.002     -6.090      0.000      -0.017      -0.008\n",
      "x11          -26.7249      6.107     -4.376      0.000     -39.235     -14.215\n",
      "x10:x11        0.0090      0.002      4.076      0.000       0.004       0.014\n",
      "==============================================================================\n",
      "Omnibus:                        0.087   Durbin-Watson:                   2.549\n",
      "Prob(Omnibus):                  0.958   Jarque-Bera (JB):                0.291\n",
      "Skew:                          -0.067   Prob(JB):                        0.865\n",
      "Kurtosis:                       2.552   Cond. No.                     8.33e+04\n",
      "==============================================================================\n",
      "\n",
      "Warnings:\n",
      "[1] Standard Errors assume that the covariance matrix of the errors is correctly specified.\n",
      "[2] The condition number is large, 8.33e+04. This might indicate that there are\n",
      "strong multicollinearity or other numerical problems.\n"
     ]
    }
   ],
   "source": [
    "y, X = patsy.dmatrices('y ~ x10 + x11 + x10 * x11', df)\n",
    "\n",
    "# Create model with interaction\n",
    "model = sm.OLS(y, X)\n",
    "results = model.fit()\n",
    "results.model.data.design_info = X.design_info\n",
    "print(results.summary())"
   ]
  },
  {
   "cell_type": "markdown",
   "metadata": {},
   "source": [
    "Separate regression models for automatic and manual transmissions:"
   ]
  },
  {
   "cell_type": "code",
   "execution_count": 6,
   "metadata": {},
   "outputs": [
    {
     "name": "stdout",
     "output_type": "stream",
     "text": [
      "\n",
      "y = 58.108 + (-0.013 * x10) + (-26.725 * x11) + (0.009 * x10 * x11)\n",
      "\n",
      "For automatic transmission, x11 = 1, therefore:\n",
      "y = 31.383 + (-0.004 * x10)\n",
      "\n",
      "For manual transmission, x11 = 0, therefore:\n",
      "y = 58.108 + (-0.013 * x10)\n"
     ]
    }
   ],
   "source": [
    "# Linear regression model with interaction\n",
    "coef = np.round(results.params, 3)\n",
    "print('\\ny = {} + ({} * x10) + ({} * x11) + ({} * x10 * x11)'.\\\n",
    "      format(coef[0], coef[1], coef[2], coef[3]))\n",
    "print('\\nFor automatic transmission, x11 = 1, therefore:')\n",
    "print('y = {} + ({} * x10)'.format(round(coef[0] + coef[2], 3),\n",
    "                                   round(coef[1] + coef[3], 3)))\n",
    "print('\\nFor manual transmission, x11 = 0, therefore:')\n",
    "print('y = {} + ({} * x10)'.format(coef[0], coef[1]))"
   ]
  },
  {
   "cell_type": "markdown",
   "metadata": {},
   "source": [
    "For manual transmission engines, gasoline mileage decreases more quickly."
   ]
  }
 ],
 "metadata": {
  "kernelspec": {
   "display_name": "Python 3",
   "language": "python",
   "name": "python3"
  },
  "language_info": {
   "codemirror_mode": {
    "name": "ipython",
    "version": 3
   },
   "file_extension": ".py",
   "mimetype": "text/x-python",
   "name": "python",
   "nbconvert_exporter": "python",
   "pygments_lexer": "ipython3",
   "version": "3.6.10"
  }
 },
 "nbformat": 4,
 "nbformat_minor": 4
}
