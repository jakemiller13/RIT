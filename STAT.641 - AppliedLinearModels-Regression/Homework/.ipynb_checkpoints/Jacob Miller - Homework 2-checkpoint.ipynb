{
 "cells": [
  {
   "cell_type": "code",
   "execution_count": 1,
   "metadata": {},
   "outputs": [],
   "source": [
    "import numpy as np\n",
    "from scipy import stats"
   ]
  },
  {
   "cell_type": "code",
   "execution_count": 2,
   "metadata": {},
   "outputs": [],
   "source": [
    "def title_print(text):\n",
    "    '''\n",
    "    Used throughout to print section titles\n",
    "    '''\n",
    "    text_len = len(text)\n",
    "    print()\n",
    "    print('#' * (text_len + 4))\n",
    "    print('|', text, '|')\n",
    "    print('#' * (text_len + 4))"
   ]
  },
  {
   "cell_type": "code",
   "execution_count": 3,
   "metadata": {},
   "outputs": [],
   "source": [
    "#############\n",
    "# Problem 1 #\n",
    "#############\n",
    "X = np.array([[-8], [-4], [0], [4], [8]])\n",
    "X = np.concatenate((np.ones(X.shape), X), axis = 1)\n",
    "Y = np.array([[11.7], [11], [10.2], [9], [7.8]])"
   ]
  },
  {
   "cell_type": "code",
   "execution_count": 4,
   "metadata": {},
   "outputs": [],
   "source": [
    "################\n",
    "# Calculations #\n",
    "################\n",
    "# Constants\n",
    "alpha = 0.05\n",
    "n = len(Y)\n",
    "t_stat = stats.t.ppf(alpha / 2, len(Y) - 2)\n",
    "x_hat = np.mean(X[:, 1])\n",
    "\n",
    "# SS_T = sum(y_i**2) - (sum(y_i)**2) / n\n",
    "sum_y_squared = sum(Y ** 2)\n",
    "squared_sum_y = sum(Y) ** 2\n",
    "SS_T = sum_y_squared - squared_sum_y / n\n",
    "\n",
    "# S_xx = sum(x_i**2) - sum(x_i)**2 / n\n",
    "sum_xx = sum(X[:, 1] ** 2)\n",
    "sum_x_squared = (sum(X[:, 1])) ** 2\n",
    "S_xx = sum_xx - sum_x_squared / n\n",
    "\n",
    "# S_xy = sum(y_i * x_i) - sum(y_i) * sum(x_i) / n\n",
    "sum_xy = sum(X[:, 1].reshape(-1, 1) * Y)\n",
    "sum_x_sum_y = sum(X[:, 1]) * sum(Y)\n",
    "S_xy = sum_xy - sum_x_sum_y / n"
   ]
  },
  {
   "cell_type": "code",
   "execution_count": 5,
   "metadata": {},
   "outputs": [
    {
     "name": "stdout",
     "output_type": "stream",
     "text": [
      "\n",
      "###############\n",
      "| Problem 1.a |\n",
      "###############\n",
      "[[ 9.94 ]\n",
      " [-0.245]]\n"
     ]
    }
   ],
   "source": [
    "###############\n",
    "# Problem 1.a #\n",
    "###############\n",
    "title_print('Problem 1.a')\n",
    "\n",
    "X_inv = np.linalg.inv(np.matmul(X.T, X))\n",
    "b_hat = np.matmul(np.matmul(X_inv, X.T), Y)\n",
    "\n",
    "print(b_hat)"
   ]
  },
  {
   "cell_type": "code",
   "execution_count": 6,
   "metadata": {},
   "outputs": [
    {
     "name": "stdout",
     "output_type": "stream",
     "text": [
      "\n",
      "###############\n",
      "| Problem 1.b |\n",
      "###############\n",
      "[[0.00986667 0.        ]\n",
      " [0.         0.00030833]]\n"
     ]
    }
   ],
   "source": [
    "###############\n",
    "# Problem 1.b #\n",
    "###############\n",
    "title_print('Problem 1.b')\n",
    "\n",
    "# SS_res = SS_T - B_hat[1] * S_xy\n",
    "SS_res = SS_T - b_hat[1] * S_xy\n",
    "\n",
    "# MS_res (variance) = SS_Res / (n-2)\n",
    "MS_res = SS_res / (n - 2)\n",
    "\n",
    "var_cov = MS_res * X_inv\n",
    "\n",
    "print(var_cov)"
   ]
  },
  {
   "cell_type": "code",
   "execution_count": 7,
   "metadata": {},
   "outputs": [
    {
     "name": "stdout",
     "output_type": "stream",
     "text": [
      "\n",
      "###############\n",
      "| Problem 1.c |\n",
      "###############\n",
      "[11.41]\n"
     ]
    }
   ],
   "source": [
    "###############\n",
    "# Problem 1.c #\n",
    "###############\n",
    "title_print('Problem 1.c')\n",
    "\n",
    "X_0 = -6\n",
    "y_0 = b_hat[0] + b_hat[1] * X_0\n",
    "\n",
    "print(y_0)"
   ]
  },
  {
   "cell_type": "code",
   "execution_count": 8,
   "metadata": {},
   "outputs": [
    {
     "name": "stdout",
     "output_type": "stream",
     "text": [
      "\n",
      "###############\n",
      "| Problem 1.d |\n",
      "###############\n",
      "[0.02096667]\n"
     ]
    }
   ],
   "source": [
    "###############\n",
    "# Problem 1.d #\n",
    "###############\n",
    "title_print('Problem 1.d')\n",
    "\n",
    "X_h = np.concatenate((np.ones(1), np.array([X_0])), axis = 0)\n",
    "inside = np.matmul(np.matmul(X_h.T, X_inv), X_h)\n",
    "var_y = MS_res * inside\n",
    "\n",
    "print(var_y)\n"
   ]
  },
  {
   "cell_type": "code",
   "execution_count": 9,
   "metadata": {},
   "outputs": [
    {
     "name": "stdout",
     "output_type": "stream",
     "text": [
      "\n",
      "###############\n",
      "| Problem 1.e |\n",
      "###############\n",
      "-> Prediction Interval <-\n",
      "[10.5662015] <= y_0 <= [12.2537985]\n"
     ]
    }
   ],
   "source": [
    "###############\n",
    "# Problem 1.e #\n",
    "###############\n",
    "title_print('Problem 1.e')\n",
    "\n",
    "# Prediction interval - note t_stat is negative so ranges are flipped\n",
    "parens = 1 + 1/n + (X_0 - x_hat) ** 2 / S_xx\n",
    "constant = t_stat * np.sqrt(MS_res * parens)\n",
    "\n",
    "y_low = y_0 + constant\n",
    "y_high = y_0 - constant\n",
    "\n",
    "print('-> Prediction Interval <-\\n{} <= y_0 <= {}'.format(y_low, y_high))"
   ]
  },
  {
   "cell_type": "code",
   "execution_count": 10,
   "metadata": {},
   "outputs": [
    {
     "name": "stdout",
     "output_type": "stream",
     "text": [
      "\n",
      "#############\n",
      "| Problem 2 |\n",
      "#############\n",
      "Recall b_hat:\n",
      "[[ 9.94 ]\n",
      " [-0.245]]\n",
      "\n",
      "(X')^(-1):\n",
      "[[0.2     0.     ]\n",
      " [0.      0.00625]]\n",
      "\n",
      "(X')^(-1) * X':\n",
      "[[ 0.2    0.2    0.2    0.2    0.2  ]\n",
      " [-0.05  -0.025  0.     0.025  0.05 ]]\n",
      "\n",
      "(X')^(-1) * X' * y:\n",
      "[[ 9.94 ]\n",
      " [-0.245]]\n"
     ]
    }
   ],
   "source": [
    "#############\n",
    "# Problem 2 #\n",
    "#############\n",
    "title_print('Problem 2')\n",
    "\n",
    "print('Recall b_hat:\\n{}'.format(b_hat))\n",
    "print('\\n(X\\')^(-1):\\n{}'.format(X_inv))\n",
    "print('\\n(X\\')^(-1) * X\\':\\n{}'.format(np.matmul(X_inv, X.T)))\n",
    "print('\\n(X\\')^(-1) * X\\' * y:\\n{}'.format(np.matmul(\n",
    "                                           np.matmul(X_inv, X.T),\n",
    "                                           Y)))"
   ]
  }
 ],
 "metadata": {
  "kernelspec": {
   "display_name": "Python 3",
   "language": "python",
   "name": "python3"
  },
  "language_info": {
   "codemirror_mode": {
    "name": "ipython",
    "version": 3
   },
   "file_extension": ".py",
   "mimetype": "text/x-python",
   "name": "python",
   "nbconvert_exporter": "python",
   "pygments_lexer": "ipython3",
   "version": "3.7.6"
  }
 },
 "nbformat": 4,
 "nbformat_minor": 4
}
