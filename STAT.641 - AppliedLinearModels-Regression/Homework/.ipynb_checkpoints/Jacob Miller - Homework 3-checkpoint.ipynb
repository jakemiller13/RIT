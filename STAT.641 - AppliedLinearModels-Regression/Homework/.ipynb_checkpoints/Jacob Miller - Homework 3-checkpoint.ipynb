{
 "cells": [
  {
   "cell_type": "markdown",
   "metadata": {},
   "source": [
    "# Setup"
   ]
  },
  {
   "cell_type": "code",
   "execution_count": 1,
   "metadata": {},
   "outputs": [],
   "source": [
    "import pandas as pd\n",
    "import numpy as np\n",
    "import patsy\n",
    "import scipy\n",
    "import statsmodels.api as sm\n",
    "from astropy.table import Table\n",
    "from sympy import symbols"
   ]
  },
  {
   "cell_type": "code",
   "execution_count": 2,
   "metadata": {},
   "outputs": [],
   "source": [
    "def title_print(text):\n",
    "    '''\n",
    "    Used throughout to print section titles\n",
    "    '''\n",
    "    text_len = len(text)\n",
    "    print()\n",
    "    print('#' * (text_len + 4))\n",
    "    print('|', text, '|')\n",
    "    print('#' * (text_len + 4))"
   ]
  },
  {
   "cell_type": "markdown",
   "metadata": {},
   "source": [
    "# Problem 3.1"
   ]
  },
  {
   "cell_type": "code",
   "execution_count": 3,
   "metadata": {},
   "outputs": [],
   "source": [
    "df = pd.read_excel('Data/data-table-B1.xlsx')\n",
    "df = df.rename(columns = {'y': 'Games_won',\n",
    "                          'x1': 'Rushing_yards',\n",
    "                          'x2': 'Passing_yards',\n",
    "                          'x3': 'Punting_average',\n",
    "                          'x4': 'Field_goal_percentage',\n",
    "                          'x5': 'Turnover_differential',\n",
    "                          'x6': 'Penalty_yards',\n",
    "                          'x7': 'Percent_rushing',\n",
    "                          'x8': 'Opponent_rushing_yards',\n",
    "                          'x9': 'Opponent_passing_yards'})"
   ]
  },
  {
   "cell_type": "code",
   "execution_count": 4,
   "metadata": {},
   "outputs": [
    {
     "name": "stdout",
     "output_type": "stream",
     "text": [
      "\n",
      "################\n",
      "| Problem 3.1a |\n",
      "################\n",
      "y_hat = [-1.8084] + [0.0036] * x_2 + [0.194] * x_7 + [-0.0048] * x_8\n"
     ]
    }
   ],
   "source": [
    "title_print('Problem 3.1a')\n",
    "y, X = patsy.dmatrices('Games_won ~ Passing_yards + Percent_rushing + \\\n",
    "                       Opponent_rushing_yards', df)\n",
    "\n",
    "parens = np.matmul(X.T, X)\n",
    "Xs = np.matmul(np.linalg.inv(parens), X.T)\n",
    "b_hat = np.round(np.matmul(Xs, y), 4)\n",
    "\n",
    "print('y_hat = {} + {} * x_2 + {} * x_7 + {} * x_8'.format(b_hat[0],\n",
    "                                                           b_hat[1],\n",
    "                                                           b_hat[2],\n",
    "                                                           b_hat[3]))"
   ]
  },
  {
   "cell_type": "code",
   "execution_count": 5,
   "metadata": {},
   "outputs": [
    {
     "name": "stdout",
     "output_type": "stream",
     "text": [
      "\n",
      "################\n",
      "| Problem 3.1b |\n",
      "################\n",
      "                            OLS Regression Results                            \n",
      "==============================================================================\n",
      "Dep. Variable:              Games_won   R-squared:                       0.786\n",
      "Model:                            OLS   Adj. R-squared:                  0.760\n",
      "Method:                 Least Squares   F-statistic:                     29.44\n",
      "Date:                Thu, 20 Feb 2020   Prob (F-statistic):           3.27e-08\n",
      "Time:                        17:27:18   Log-Likelihood:                -52.532\n",
      "No. Observations:                  28   AIC:                             113.1\n",
      "Df Residuals:                      24   BIC:                             118.4\n",
      "Df Model:                           3                                         \n",
      "Covariance Type:            nonrobust                                         \n",
      "==========================================================================================\n",
      "                             coef    std err          t      P>|t|      [0.025      0.975]\n",
      "------------------------------------------------------------------------------------------\n",
      "Intercept                 -1.8084      7.901     -0.229      0.821     -18.115      14.498\n",
      "Passing_yards              0.0036      0.001      5.177      0.000       0.002       0.005\n",
      "Percent_rushing            0.1940      0.088      2.198      0.038       0.012       0.376\n",
      "Opponent_rushing_yards    -0.0048      0.001     -3.771      0.001      -0.007      -0.002\n",
      "==============================================================================\n",
      "Omnibus:                        0.665   Durbin-Watson:                   1.492\n",
      "Prob(Omnibus):                  0.717   Jarque-Bera (JB):                0.578\n",
      "Skew:                           0.321   Prob(JB):                        0.749\n",
      "Kurtosis:                       2.712   Cond. No.                     7.42e+04\n",
      "==============================================================================\n",
      "\n",
      "Warnings:\n",
      "[1] Standard Errors assume that the covariance matrix of the errors is correctly specified.\n",
      "[2] The condition number is large, 7.42e+04. This might indicate that there are\n",
      "strong multicollinearity or other numerical problems.\n",
      "\n",
      "--- Analysis of Variance table ---\n",
      "                          df      sum_sq     mean_sq          F        PR(>F)\n",
      "Passing_yards            1.0   76.193400   76.193400  26.172055  3.100132e-05\n",
      "Percent_rushing          1.0  139.500820  139.500820  47.917840  3.697874e-07\n",
      "Opponent_rushing_yards   1.0   41.400062   41.400062  14.220716  9.377699e-04\n",
      "Residual                24.0   69.870004    2.911250        NaN           NaN\n",
      "\n",
      "Regression F: 29.44\n",
      "Regression p: 0.0\n",
      "\n",
      "--> Regression is significant <--\n"
     ]
    }
   ],
   "source": [
    "title_print('Problem 3.1b')\n",
    "results = sm.OLS(y, X).fit()\n",
    "results.model.data.design_info = X.design_info\n",
    "\n",
    "# Note statsmodels prints out ANOVA for each individual regressor\n",
    "aov_table = sm.stats.anova_lm(results, typ = 1)\n",
    "\n",
    "print(results.summary())\n",
    "print('\\n--- Analysis of Variance table ---\\n{}'.format(aov_table))\n",
    "print('\\nRegression F: {}'.format(round(results.fvalue, 2)))\n",
    "print('Regression p: {}'.format(round(results.f_pvalue, 4)))\n",
    "print('\\n--> Regression is significant <--')"
   ]
  },
  {
   "cell_type": "code",
   "execution_count": 6,
   "metadata": {},
   "outputs": [
    {
     "name": "stdout",
     "output_type": "stream",
     "text": [
      "\n",
      "################\n",
      "| Problem 3.1c |\n",
      "################\n",
      "Coef  t_0  p-value\n",
      "---- ----- -------\n",
      "  B2 5.177     0.0\n",
      "  B7 2.198   0.038\n",
      "  B8 3.771   0.001\n",
      "\n",
      "t-statistic = 2.056\n",
      "\n",
      "--> abs(t_0) > t-statistic, so all are significant <--\n"
     ]
    }
   ],
   "source": [
    "title_print('Problem 3.1c')\n",
    "t_stat = -scipy.stats.t.ppf(0.025, len(X) - 2)\n",
    "t_values = abs(np.round(results.tvalues[1:], 3))\n",
    "p_values = np.round(results.pvalues[1:], 3)\n",
    "table = Table([['B2', 'B7', 'B8'], t_values, p_values],\n",
    "              names = ('Coef', 't_0', 'p-value'))\n",
    "\n",
    "print(table)\n",
    "print('\\nt-statistic = {}'.format(round(t_stat, 3)))\n",
    "print('\\n--> abs(t_0) > t-statistic, so all are significant <--')"
   ]
  },
  {
   "cell_type": "code",
   "execution_count": 7,
   "metadata": {},
   "outputs": [
    {
     "name": "stdout",
     "output_type": "stream",
     "text": [
      "\n",
      "################\n",
      "| Problem 3.1d |\n",
      "################\n",
      "R^2 = 78.63%\n",
      "Adj-R^2 = 75.96%\n"
     ]
    }
   ],
   "source": [
    "title_print('Problem 3.1d')\n",
    "print('R^2 = {}%'.format(round(100 * results.rsquared, 2)))\n",
    "print('Adj-R^2 = {}%'.format(round(100 * results.rsquared_adj, 2)))"
   ]
  },
  {
   "cell_type": "code",
   "execution_count": 8,
   "metadata": {},
   "outputs": [
    {
     "name": "stdout",
     "output_type": "stream",
     "text": [
      "\n",
      "################\n",
      "| Problem 3.1e |\n",
      "################\n",
      "reduced y_hat = [14.7127] + [0.0031] * x_2 + [-0.0068] * x_8\n",
      "partial F = 4.83\n",
      "\n",
      "--> 4.83 < 29.44, therefore B7 is significant <--\n"
     ]
    }
   ],
   "source": [
    "title_print('Problem 3.1e')\n",
    "y2, X2 = patsy.dmatrices('y ~ Passing_yards + Opponent_rushing_yards', df)\n",
    "\n",
    "parens2 = np.matmul(X2.T, X2)\n",
    "Xs2 = np.matmul(np.linalg.inv(parens2), X2.T)\n",
    "b_hat2 = np.round(np.matmul(Xs2, y2), 4)\n",
    "\n",
    "results2 = sm.OLS(y2, X2).fit()\n",
    "results2.model.data.design_info = X2.design_info\n",
    "\n",
    "partial_F = round((results.ess - results2.ess) / results.mse_resid, 2)\n",
    "\n",
    "print('reduced y_hat = {} + {} * x_2 + {} * x_8'.format(b_hat2[0],\n",
    "                                                        b_hat2[1],\n",
    "                                                        b_hat2[2]))\n",
    "print('partial F = {}'.format(partial_F))\n",
    "print('\\n--> {} < {}, therefore B7 is significant <--'.format(partial_F,\n",
    "      round(results.fvalue, 2)))"
   ]
  },
  {
   "cell_type": "markdown",
   "metadata": {},
   "source": [
    "# Problem 3.10"
   ]
  },
  {
   "cell_type": "code",
   "execution_count": 9,
   "metadata": {},
   "outputs": [
    {
     "name": "stdout",
     "output_type": "stream",
     "text": [
      "WARNING *** OLE2 inconsistency: SSCS size is 0 but SSAT size is non-zero\n"
     ]
    }
   ],
   "source": [
    "df = pd.read_excel('Data/data-table-B11.xlsx')"
   ]
  },
  {
   "cell_type": "code",
   "execution_count": 10,
   "metadata": {},
   "outputs": [
    {
     "name": "stdout",
     "output_type": "stream",
     "text": [
      "\n",
      "#################\n",
      "| Problem 3.10a |\n",
      "#################\n",
      "y_hat = [3.9969] + [2.3395] * x_1 + [0.4826] * x_2 + [0.2732] * x_3 + [1.1683] * x_4 + [-0.684] * x_5\n"
     ]
    }
   ],
   "source": [
    "title_print('Problem 3.10a')\n",
    "y, X = patsy.dmatrices('Quality ~ Clarity + Aroma + Body + Flavor + \\\n",
    "                       Oakiness', df)\n",
    "\n",
    "parens = np.matmul(X.T, X)\n",
    "Xs = np.matmul(np.linalg.inv(parens), X.T)\n",
    "b_hat = np.round(np.matmul(Xs, y), 4)\n",
    "\n",
    "print('y_hat = {} + {} * x_1 + {} * x_2 + {} * x_3 + {} * x_4 + {} * x_5'.\\\n",
    "      format(b_hat[0], b_hat[1], b_hat[2], b_hat[3], b_hat[4], b_hat[5]))"
   ]
  },
  {
   "cell_type": "code",
   "execution_count": 11,
   "metadata": {},
   "outputs": [
    {
     "name": "stdout",
     "output_type": "stream",
     "text": [
      "\n",
      "#################\n",
      "| Problem 3.10b |\n",
      "#################\n",
      "                            OLS Regression Results                            \n",
      "==============================================================================\n",
      "Dep. Variable:                Quality   R-squared:                       0.721\n",
      "Model:                            OLS   Adj. R-squared:                  0.677\n",
      "Method:                 Least Squares   F-statistic:                     16.51\n",
      "Date:                Thu, 20 Feb 2020   Prob (F-statistic):           4.70e-08\n",
      "Time:                        17:30:51   Log-Likelihood:                -56.378\n",
      "No. Observations:                  38   AIC:                             124.8\n",
      "Df Residuals:                      32   BIC:                             134.6\n",
      "Df Model:                           5                                         \n",
      "Covariance Type:            nonrobust                                         \n",
      "==============================================================================\n",
      "                 coef    std err          t      P>|t|      [0.025      0.975]\n",
      "------------------------------------------------------------------------------\n",
      "Intercept      3.9969      2.232      1.791      0.083      -0.549       8.543\n",
      "Clarity        2.3395      1.735      1.349      0.187      -1.194       5.873\n",
      "Aroma          0.4826      0.272      1.771      0.086      -0.072       1.038\n",
      "Body           0.2732      0.333      0.821      0.418      -0.404       0.951\n",
      "Flavor         1.1683      0.304      3.837      0.001       0.548       1.789\n",
      "Oakiness      -0.6840      0.271     -2.522      0.017      -1.236      -0.132\n",
      "==============================================================================\n",
      "Omnibus:                        1.181   Durbin-Watson:                   0.837\n",
      "Prob(Omnibus):                  0.554   Jarque-Bera (JB):                1.020\n",
      "Skew:                          -0.384   Prob(JB):                        0.601\n",
      "Kurtosis:                       2.770   Cond. No.                         134.\n",
      "==============================================================================\n",
      "\n",
      "Warnings:\n",
      "[1] Standard Errors assume that the covariance matrix of the errors is correctly specified.\n",
      "\n",
      "--- Analysis of Variance table ---\n",
      "            df     sum_sq    mean_sq          F        PR(>F)\n",
      "Clarity    1.0   0.125210   0.125210   0.092645  7.628120e-01\n",
      "Aroma      1.0  77.353210  77.353210  57.235072  1.286336e-08\n",
      "Body       1.0   6.414421   6.414421   4.746149  3.684165e-02\n",
      "Flavor     1.0  19.049819  19.049819  14.095314  6.945740e-04\n",
      "Oakiness   1.0   8.597755   8.597755   6.361638  1.683272e-02\n",
      "Residual  32.0  43.248006   1.351500        NaN           NaN\n",
      "\n",
      "Regression F: 16.51\n",
      "Regression p: 0.0\n",
      "\n",
      "--> Regression is significant <--\n"
     ]
    }
   ],
   "source": [
    "title_print('Problem 3.10b')\n",
    "results = sm.OLS(y, X).fit()\n",
    "results.model.data.design_info = X.design_info\n",
    "\n",
    "aov_table = sm.stats.anova_lm(results, typ = 1)\n",
    "\n",
    "print(results.summary())\n",
    "print('\\n--- Analysis of Variance table ---\\n{}'.format(aov_table))\n",
    "print('\\nRegression F: {}'.format(round(results.fvalue, 2)))\n",
    "print('Regression p: {}'.format(round(results.f_pvalue, 4)))\n",
    "print('\\n--> Regression is significant <--')"
   ]
  },
  {
   "cell_type": "code",
   "execution_count": 12,
   "metadata": {},
   "outputs": [
    {
     "name": "stdout",
     "output_type": "stream",
     "text": [
      "\n",
      "#################\n",
      "| Problem 3.10c |\n",
      "#################\n",
      "Coef  t_0  p-value\n",
      "---- ----- -------\n",
      "  B1 1.349   0.187\n",
      "  B2 1.771   0.086\n",
      "  B3 0.821   0.418\n",
      "  B4 3.837   0.001\n",
      "  B5 2.522   0.017\n",
      "\n",
      "t-statistic = 2.028\n",
      "\n",
      "--> B4, B5: abs(t_0) > t-statistic so these are significant <--\n"
     ]
    }
   ],
   "source": [
    "title_print('Problem 3.10c')\n",
    "t_stat = -scipy.stats.t.ppf(0.025, len(X) - 2)\n",
    "t_values = abs(np.round(results.tvalues[1:], 3))\n",
    "p_values = np.round(results.pvalues[1:], 3)\n",
    "table = Table([['B1', 'B2', 'B3', 'B4', 'B5'], t_values, p_values],\n",
    "              names = ('Coef', 't_0', 'p-value'))\n",
    "\n",
    "print(table)\n",
    "print('\\nt-statistic = {}'.format(round(t_stat, 3)))\n",
    "print('\\n--> B4, B5: abs(t_0) > t-statistic so these are significant <--')"
   ]
  },
  {
   "cell_type": "code",
   "execution_count": 13,
   "metadata": {},
   "outputs": [
    {
     "name": "stdout",
     "output_type": "stream",
     "text": [
      "\n",
      "#################\n",
      "| Problem 3.10d |\n",
      "#################\n",
      "        Full model Reduced model\n",
      "------- ---------- -------------\n",
      "    R^2      72.06         65.86\n",
      "Adj-R^2      67.69          63.9\n",
      "\n",
      "--> Very similar, so models are similar <--\n"
     ]
    }
   ],
   "source": [
    "title_print('Problem 3.10d')\n",
    "y2, X2 = patsy.dmatrices('Quality ~ Aroma + Flavor', df)\n",
    "\n",
    "parens = np.matmul(X2.T, X2)\n",
    "Xs2 = np.matmul(np.linalg.inv(parens), X2.T)\n",
    "b_hat2 = np.round(np.matmul(Xs2, y2), 4)\n",
    "results2 = sm.OLS(y2, X2).fit()\n",
    "results2.model.data.design_info = X2.design_info\n",
    "\n",
    "table = Table([['R^2', 'Adj-R^2'],\n",
    "               [round(100 * results.rsquared, 2),\n",
    "                round(100 * results.rsquared_adj, 2)],\n",
    "               [round(100 * results2.rsquared, 2),\n",
    "                round(100 * results2.rsquared_adj, 2)]],\n",
    "               names = (' ', 'Full model', 'Reduced model'))\n",
    "print(table)\n",
    "print('\\n--> Very similar, so models are similar <--')"
   ]
  },
  {
   "cell_type": "code",
   "execution_count": 14,
   "metadata": {},
   "outputs": [
    {
     "name": "stdout",
     "output_type": "stream",
     "text": [
      "\n",
      "#################\n",
      "| Problem 3.10e |\n",
      "#################\n",
      "Full model: 0.548 to 1.789\n",
      "Reduced model: 0.58 to 1.76\n",
      "\n",
      "--> Very similar again, so similar models <--\n"
     ]
    }
   ],
   "source": [
    "title_print('Problem 3.10e')\n",
    "ci_1 = np.round(results.conf_int()[4], 3)\n",
    "ci_2 = np.round(results2.conf_int()[2], 3)\n",
    "\n",
    "print('Full model: {} to {}'.format(ci_1[0], ci_1[1]))\n",
    "print('Reduced model: {} to {}'.format(ci_2[0], ci_2[1]))\n",
    "print('\\n--> Very similar again, so similar models <--')"
   ]
  },
  {
   "cell_type": "markdown",
   "metadata": {},
   "source": [
    "# Problem 3.25 (Note: This is problem 3.21 in 4th edition of textbook)"
   ]
  },
  {
   "cell_type": "code",
   "execution_count": 15,
   "metadata": {},
   "outputs": [
    {
     "name": "stdout",
     "output_type": "stream",
     "text": [
      "\n",
      "#################\n",
      "| Problem 3.25a |\n",
      "#################\n",
      "y = [b0 + b1*x1 + b2*x2 + b3*x3 + b4*x4 + eps]\n",
      "H0: b1 = b2 = b3 = b4 = b\n",
      "\n",
      "Therefore: b1 - b2 = 0, b2 - b3 = 0, b3 - b4 = 0\n",
      "\n",
      "T = \n",
      "[[ 0  1 -1  0  0]\n",
      " [ 0  0  1 -1  0]\n",
      " [ 0  0  0  1 -1]]\n",
      "\n",
      "beta = \n",
      "[[b0]\n",
      " [b1]\n",
      " [b2]\n",
      " [b3]\n",
      " [b4]]\n",
      "\n",
      "c = \n",
      "[[0]\n",
      " [b]\n",
      " [b]\n",
      " [b]\n",
      " [b]]\n",
      "\n",
      "y = [b0 + b1*x1 + b1*x2 + b1*x3 + b1*x4 + eps]\n",
      "\n",
      "Where:\n",
      "gamma_0 = b0\n",
      "gamma_1 = b\n",
      "z = x1 + x2 + x3 + x4\n",
      "\n",
      "--> Reduced model: y = gamma_0 + gamma_1 * z + eps <--\n"
     ]
    }
   ],
   "source": [
    "title_print('Problem 3.25a')\n",
    "b, b0, b1, b2, b3, b4 = symbols('b b0 b1 b2 b3 b4')\n",
    "y, x1, x2, x3, x4, eps = symbols('y x1 x2 x3 x4 eps')\n",
    "gamma_0, gamma_1, z = symbols('gamma_0 gamma_1 z')\n",
    "\n",
    "beta = np.array([[b0], [b1], [b2], [b3], [b4]])\n",
    "X = np.array([1, x1, x2, x3, x4])\n",
    "y = np.matmul(X, beta) + eps\n",
    "\n",
    "# H0: b1 = b2 = b3 = b4\n",
    "beta2 = np.array([[b0], [b1], [b1], [b1], [b1]])\n",
    "y2 = np.matmul(X, beta2) + eps\n",
    "\n",
    "T = np.array([[0, 1, -1, 0, 0],\n",
    "              [0, 0, 1, -1, 0],\n",
    "              [0, 0, 0, 1, -1]])\n",
    "c = np.array([[0], [b], [b], [b], [b]])\n",
    "\n",
    "print('y = {}'.format(y))\n",
    "print('H0: b1 = b2 = b3 = b4 = b')\n",
    "print('\\nTherefore: b1 - b2 = 0, b2 - b3 = 0, b3 - b4 = 0')\n",
    "print('\\nT = \\n{}\\n\\nbeta = \\n{}\\n\\nc = \\n{}'.format(T, beta, c))\n",
    "print('\\ny = {}'.format(y2))\n",
    "print('\\nWhere:\\ngamma_0 = b0\\ngamma_1 = b\\nz = x1 + x2 + x3 + x4')\n",
    "print('\\n--> Reduced model: y = gamma_0 + gamma_1 * z + eps <--')"
   ]
  },
  {
   "cell_type": "code",
   "execution_count": 16,
   "metadata": {},
   "outputs": [
    {
     "name": "stdout",
     "output_type": "stream",
     "text": [
      "\n",
      "#################\n",
      "| Problem 3.25b |\n",
      "#################\n",
      "y = [b0 + b1*x1 + b2*x2 + b3*x3 + b4*x4 + eps]\n",
      "H0: b1 = b2, b3 = b4\n",
      "\n",
      "Therefore: b1 - b2 = 0, b3 - b4 = 0\n",
      "\n",
      "T = \n",
      "[[ 0  1 -1  0  0]\n",
      " [ 0  0  0  1 -1]]\n",
      "\n",
      "beta = \n",
      "[[b0]\n",
      " [b1]\n",
      " [b2]\n",
      " [b3]\n",
      " [b4]]\n",
      "\n",
      "c = \n",
      "[[0]\n",
      " [0]]\n",
      "\n",
      "y = [b0 + b1*x1 + b1*x2 + b3*x3 + b3*x4 + eps]\n",
      "\n",
      "Where:\n",
      "gamma_0 = b0\n",
      "gamma_1 = b1\n",
      "gamma_3 = b3\n",
      "z1 = x1 + x2\n",
      "z3 = x3 + x4\n",
      "\n",
      "--> Reduced model: y = gamma_0 + gamma_1 * z1 + gamma_3 * z3 <--\n"
     ]
    }
   ],
   "source": [
    "title_print('Problem 3.25b')\n",
    "\n",
    "beta = np.array([[b0], [b1], [b2], [b3], [b4]])\n",
    "X = np.array([1, x1, x2, x3, x4])\n",
    "y = np.matmul(X, beta) + eps\n",
    "\n",
    "# H0: b1 = b2, b3 = b4\n",
    "beta2 = np.array([[b0], [b1], [b1], [b3], [b3]])\n",
    "y2 = np.matmul(X, beta2) + eps\n",
    "\n",
    "T = np.array([[0, 1, -1, 0, 0],\n",
    "              [0, 0, 0, 1, -1]])\n",
    "c = np.array([[0], [0]])\n",
    "\n",
    "print('y = {}'.format(y))\n",
    "print('H0: b1 = b2, b3 = b4')\n",
    "print('\\nTherefore: b1 - b2 = 0, b3 - b4 = 0')\n",
    "print('\\nT = \\n{}\\n\\nbeta = \\n{}\\n\\nc = \\n{}'.format(T, beta, c))\n",
    "print('\\ny = {}'.format(y2))\n",
    "print('\\nWhere:\\ngamma_0 = b0\\ngamma_1 = b1\\ngamma_3 = b3')\n",
    "print('z1 = x1 + x2\\nz3 = x3 + x4')\n",
    "print('\\n--> Reduced model: y = gamma_0 + gamma_1 * z1 + gamma_3 * z3 <--')"
   ]
  }
 ],
 "metadata": {
  "kernelspec": {
   "display_name": "Python 3",
   "language": "python",
   "name": "python3"
  },
  "language_info": {
   "codemirror_mode": {
    "name": "ipython",
    "version": 3
   },
   "file_extension": ".py",
   "mimetype": "text/x-python",
   "name": "python",
   "nbconvert_exporter": "python",
   "pygments_lexer": "ipython3",
   "version": "3.7.6"
  }
 },
 "nbformat": 4,
 "nbformat_minor": 4
}
