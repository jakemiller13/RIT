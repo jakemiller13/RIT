{
 "cells": [
  {
   "cell_type": "markdown",
   "id": "574d570c",
   "metadata": {},
   "source": [
    "### Package import"
   ]
  },
  {
   "cell_type": "code",
   "execution_count": 1,
   "id": "c3931d54",
   "metadata": {},
   "outputs": [],
   "source": [
    "import pandas as pd\n",
    "import statsmodels.api as sm\n",
    "import matplotlib.pyplot as plt\n",
    "from math import ceil, floor"
   ]
  },
  {
   "cell_type": "markdown",
   "id": "0cb29182",
   "metadata": {},
   "source": [
    "### Set alpha"
   ]
  },
  {
   "cell_type": "code",
   "execution_count": 2,
   "id": "16677245",
   "metadata": {},
   "outputs": [],
   "source": [
    "alpha = 0.05"
   ]
  },
  {
   "cell_type": "markdown",
   "id": "cb72456e",
   "metadata": {},
   "source": [
    "# Problem 1"
   ]
  },
  {
   "cell_type": "markdown",
   "id": "e0211c41",
   "metadata": {},
   "source": [
    "### Data setup and dataframe creation."
   ]
  },
  {
   "cell_type": "code",
   "execution_count": 3,
   "id": "7f730f07",
   "metadata": {},
   "outputs": [
    {
     "data": {
      "text/html": [
       "<div>\n",
       "<style scoped>\n",
       "    .dataframe tbody tr th:only-of-type {\n",
       "        vertical-align: middle;\n",
       "    }\n",
       "\n",
       "    .dataframe tbody tr th {\n",
       "        vertical-align: top;\n",
       "    }\n",
       "\n",
       "    .dataframe thead th {\n",
       "        text-align: right;\n",
       "    }\n",
       "</style>\n",
       "<table border=\"1\" class=\"dataframe\">\n",
       "  <thead>\n",
       "    <tr style=\"text-align: right;\">\n",
       "      <th></th>\n",
       "      <th>const</th>\n",
       "      <th>Temp</th>\n",
       "      <th>Oil</th>\n",
       "      <th>Time</th>\n",
       "      <th>y</th>\n",
       "    </tr>\n",
       "  </thead>\n",
       "  <tbody>\n",
       "    <tr>\n",
       "      <th>0</th>\n",
       "      <td>1.0</td>\n",
       "      <td>7</td>\n",
       "      <td>4</td>\n",
       "      <td>90</td>\n",
       "      <td>24</td>\n",
       "    </tr>\n",
       "    <tr>\n",
       "      <th>1</th>\n",
       "      <td>1.0</td>\n",
       "      <td>5</td>\n",
       "      <td>3</td>\n",
       "      <td>105</td>\n",
       "      <td>28</td>\n",
       "    </tr>\n",
       "    <tr>\n",
       "      <th>2</th>\n",
       "      <td>1.0</td>\n",
       "      <td>7</td>\n",
       "      <td>3</td>\n",
       "      <td>105</td>\n",
       "      <td>40</td>\n",
       "    </tr>\n",
       "    <tr>\n",
       "      <th>3</th>\n",
       "      <td>1.0</td>\n",
       "      <td>7</td>\n",
       "      <td>2</td>\n",
       "      <td>90</td>\n",
       "      <td>42</td>\n",
       "    </tr>\n",
       "    <tr>\n",
       "      <th>4</th>\n",
       "      <td>1.0</td>\n",
       "      <td>6</td>\n",
       "      <td>4</td>\n",
       "      <td>105</td>\n",
       "      <td>11</td>\n",
       "    </tr>\n",
       "  </tbody>\n",
       "</table>\n",
       "</div>"
      ],
      "text/plain": [
       "   const  Temp  Oil  Time   y\n",
       "0    1.0     7    4    90  24\n",
       "1    1.0     5    3   105  28\n",
       "2    1.0     7    3   105  40\n",
       "3    1.0     7    2    90  42\n",
       "4    1.0     6    4   105  11"
      ]
     },
     "execution_count": 3,
     "metadata": {},
     "output_type": "execute_result"
    }
   ],
   "source": [
    "data = {'Temp': [7, 5, 7, 7, 6, 6, 5, 6, 5, 6, 5, 7, 6, 6, 6],\n",
    "        'Oil': [4, 3, 3, 2, 4, 3, 3, 2, 4, 2, 2, 3, 3, 3, 4],\n",
    "        'Time': [90, 105, 105, 90, 105, 90, 75, 105, 90, 75, 90, 75, 90, 90, 75],\n",
    "        'y': [24, 28, 40, 42, 11, 16, 126, 34, 32, 32, 34, 17, 30, 17, 50]}\n",
    "\n",
    "df = pd.DataFrame(data)\n",
    "df = sm.add_constant(df)\n",
    "df.head()"
   ]
  },
  {
   "cell_type": "markdown",
   "id": "92dcee8a",
   "metadata": {},
   "source": [
    "## Problem 1a"
   ]
  },
  {
   "cell_type": "code",
   "execution_count": 4,
   "id": "e37cfc81",
   "metadata": {},
   "outputs": [],
   "source": [
    "df_exog = df[['const', 'Temp', 'Oil', 'Time']]\n",
    "df_exog = pd.concat([df_exog,\n",
    "                     df_exog['Temp'] * df_exog['Oil'],\n",
    "                     df_exog['Temp'] * df_exog['Time'],\n",
    "                     df_exog['Oil'] * df_exog['Time']], axis = 1)\n",
    "df_exog = df_exog.rename(columns = {0: 'Temp * Oil',\n",
    "                                    1: 'Temp * Time',\n",
    "                                    2: 'Oil * Time'})\n",
    "df_endog = df['y']"
   ]
  },
  {
   "cell_type": "markdown",
   "id": "a528cc5f",
   "metadata": {},
   "source": [
    "### Full Poisson, *log* link function"
   ]
  },
  {
   "cell_type": "code",
   "execution_count": 5,
   "id": "58a678a0",
   "metadata": {},
   "outputs": [
    {
     "data": {
      "text/html": [
       "<table class=\"simpletable\">\n",
       "<tr>\n",
       "        <td>Model:</td>               <td>GLM</td>            <td>AIC:</td>       <td>129.2872</td>\n",
       "</tr>\n",
       "<tr>\n",
       "    <td>Link Function:</td>           <td>log</td>            <td>BIC:</td>        <td>15.0506</td>\n",
       "</tr>\n",
       "<tr>\n",
       "  <td>Dependent Variable:</td>         <td>y</td>        <td>Log-Likelihood:</td>  <td>-57.644</td>\n",
       "</tr>\n",
       "<tr>\n",
       "         <td>Date:</td>        <td>2021-07-14 09:36</td>    <td>LL-Null:</td>      <td>-146.01</td>\n",
       "</tr>\n",
       "<tr>\n",
       "   <td>No. Observations:</td>         <td>15</td>           <td>Deviance:</td>     <td>36.715</td> \n",
       "</tr>\n",
       "<tr>\n",
       "       <td>Df Model:</td>              <td>6</td>         <td>Pearson chi2:</td>    <td>38.9</td>  \n",
       "</tr>\n",
       "<tr>\n",
       "     <td>Df Residuals:</td>            <td>8</td>            <td>Scale:</td>       <td>1.0000</td> \n",
       "</tr>\n",
       "<tr>\n",
       "        <td>Method:</td>             <td>IRLS</td>              <td></td>             <td></td>    \n",
       "</tr>\n",
       "</table>\n",
       "<table class=\"simpletable\">\n",
       "<tr>\n",
       "       <td></td>        <th>Coef.</th>  <th>Std.Err.</th>    <th>z</th>     <th>P>|z|</th> <th>[0.025</th>  <th>0.975]</th> \n",
       "</tr>\n",
       "<tr>\n",
       "  <th>const</th>       <td>24.9964</td>  <td>3.6530</td>  <td>6.8427</td>  <td>0.0000</td> <td>17.8367</td> <td>32.1561</td>\n",
       "</tr>\n",
       "<tr>\n",
       "  <th>Temp</th>        <td>-4.2817</td>  <td>0.5679</td>  <td>-7.5389</td> <td>0.0000</td> <td>-5.3948</td> <td>-3.1685</td>\n",
       "</tr>\n",
       "<tr>\n",
       "  <th>Oil</th>         <td>2.9898</td>   <td>0.7655</td>  <td>3.9060</td>  <td>0.0001</td> <td>1.4896</td>  <td>4.4901</td> \n",
       "</tr>\n",
       "<tr>\n",
       "  <th>Time</th>        <td>-0.2517</td>  <td>0.0373</td>  <td>-6.7444</td> <td>0.0000</td> <td>-0.3249</td> <td>-0.1786</td>\n",
       "</tr>\n",
       "<tr>\n",
       "  <th>Temp * Oil</th>  <td>-0.1634</td>  <td>0.0903</td>  <td>-1.8089</td> <td>0.0705</td> <td>-0.3404</td> <td>0.0136</td> \n",
       "</tr>\n",
       "<tr>\n",
       "  <th>Temp * Time</th> <td>0.0505</td>   <td>0.0057</td>  <td>8.8684</td>  <td>0.0000</td> <td>0.0393</td>  <td>0.0617</td> \n",
       "</tr>\n",
       "<tr>\n",
       "  <th>Oil * Time</th>  <td>-0.0242</td>  <td>0.0060</td>  <td>-4.0614</td> <td>0.0000</td> <td>-0.0359</td> <td>-0.0125</td>\n",
       "</tr>\n",
       "</table>"
      ],
      "text/plain": [
       "<class 'statsmodels.iolib.summary2.Summary'>\n",
       "\"\"\"\n",
       "              Results: Generalized linear model\n",
       "=============================================================\n",
       "Model:              GLM              AIC:            129.2872\n",
       "Link Function:      log              BIC:            15.0506 \n",
       "Dependent Variable: y                Log-Likelihood: -57.644 \n",
       "Date:               2021-07-14 09:36 LL-Null:        -146.01 \n",
       "No. Observations:   15               Deviance:       36.715  \n",
       "Df Model:           6                Pearson chi2:   38.9    \n",
       "Df Residuals:       8                Scale:          1.0000  \n",
       "Method:             IRLS                                     \n",
       "-------------------------------------------------------------\n",
       "               Coef.  Std.Err.    z    P>|z|   [0.025  0.975]\n",
       "-------------------------------------------------------------\n",
       "const         24.9964   3.6530  6.8427 0.0000 17.8367 32.1561\n",
       "Temp          -4.2817   0.5679 -7.5389 0.0000 -5.3948 -3.1685\n",
       "Oil            2.9898   0.7655  3.9060 0.0001  1.4896  4.4901\n",
       "Time          -0.2517   0.0373 -6.7444 0.0000 -0.3249 -0.1786\n",
       "Temp * Oil    -0.1634   0.0903 -1.8089 0.0705 -0.3404  0.0136\n",
       "Temp * Time    0.0505   0.0057  8.8684 0.0000  0.0393  0.0617\n",
       "Oil * Time    -0.0242   0.0060 -4.0614 0.0000 -0.0359 -0.0125\n",
       "=============================================================\n",
       "\n",
       "\"\"\""
      ]
     },
     "execution_count": 5,
     "metadata": {},
     "output_type": "execute_result"
    }
   ],
   "source": [
    "model_poisson = sm.GLM(df_endog, df_exog,\n",
    "                       family = sm.families.Poisson(sm.families.links.log()),\n",
    "                       alpha = 0.05)\n",
    "res_poisson = model_poisson.fit()\n",
    "res_poisson.summary2()"
   ]
  },
  {
   "cell_type": "markdown",
   "id": "b1bddf7a",
   "metadata": {},
   "source": [
    "Remove any variables where CI includes 0 and p > 0.05, i.e. \"Temp * Oil\""
   ]
  },
  {
   "cell_type": "markdown",
   "id": "fcf4e2fe",
   "metadata": {},
   "source": [
    "### Reduced Poisson, *log* link function"
   ]
  },
  {
   "cell_type": "code",
   "execution_count": 6,
   "id": "a72847ca",
   "metadata": {},
   "outputs": [
    {
     "data": {
      "text/html": [
       "<table class=\"simpletable\">\n",
       "<tr>\n",
       "        <td>Model:</td>               <td>GLM</td>            <td>AIC:</td>       <td>130.5569</td>\n",
       "</tr>\n",
       "<tr>\n",
       "    <td>Link Function:</td>           <td>log</td>            <td>BIC:</td>        <td>15.6123</td>\n",
       "</tr>\n",
       "<tr>\n",
       "  <td>Dependent Variable:</td>         <td>y</td>        <td>Log-Likelihood:</td>  <td>-59.278</td>\n",
       "</tr>\n",
       "<tr>\n",
       "         <td>Date:</td>        <td>2021-07-14 09:36</td>    <td>LL-Null:</td>      <td>-146.01</td>\n",
       "</tr>\n",
       "<tr>\n",
       "   <td>No. Observations:</td>         <td>15</td>           <td>Deviance:</td>     <td>39.985</td> \n",
       "</tr>\n",
       "<tr>\n",
       "       <td>Df Model:</td>              <td>5</td>         <td>Pearson chi2:</td>    <td>42.5</td>  \n",
       "</tr>\n",
       "<tr>\n",
       "     <td>Df Residuals:</td>            <td>9</td>            <td>Scale:</td>       <td>1.0000</td> \n",
       "</tr>\n",
       "<tr>\n",
       "        <td>Method:</td>             <td>IRLS</td>              <td></td>             <td></td>    \n",
       "</tr>\n",
       "</table>\n",
       "<table class=\"simpletable\">\n",
       "<tr>\n",
       "       <td></td>        <th>Coef.</th>  <th>Std.Err.</th>    <th>z</th>     <th>P>|z|</th> <th>[0.025</th>  <th>0.975]</th> \n",
       "</tr>\n",
       "<tr>\n",
       "  <th>const</th>       <td>27.9918</td>  <td>3.2634</td>  <td>8.5775</td>  <td>0.0000</td> <td>21.5957</td> <td>34.3880</td>\n",
       "</tr>\n",
       "<tr>\n",
       "  <th>Temp</th>        <td>-4.7708</td>  <td>0.5019</td>  <td>-9.5053</td> <td>0.0000</td> <td>-5.7545</td> <td>-3.7870</td>\n",
       "</tr>\n",
       "<tr>\n",
       "  <th>Oil</th>         <td>1.9909</td>   <td>0.5249</td>  <td>3.7931</td>  <td>0.0001</td> <td>0.9621</td>  <td>3.0196</td> \n",
       "</tr>\n",
       "<tr>\n",
       "  <th>Time</th>        <td>-0.2537</td>  <td>0.0372</td>  <td>-6.8230</td> <td>0.0000</td> <td>-0.3265</td> <td>-0.1808</td>\n",
       "</tr>\n",
       "<tr>\n",
       "  <th>Temp * Time</th> <td>0.0506</td>   <td>0.0057</td>  <td>8.9154</td>  <td>0.0000</td> <td>0.0395</td>  <td>0.0618</td> \n",
       "</tr>\n",
       "<tr>\n",
       "  <th>Oil * Time</th>  <td>-0.0238</td>  <td>0.0059</td>  <td>-4.0022</td> <td>0.0001</td> <td>-0.0355</td> <td>-0.0121</td>\n",
       "</tr>\n",
       "</table>"
      ],
      "text/plain": [
       "<class 'statsmodels.iolib.summary2.Summary'>\n",
       "\"\"\"\n",
       "              Results: Generalized linear model\n",
       "=============================================================\n",
       "Model:              GLM              AIC:            130.5569\n",
       "Link Function:      log              BIC:            15.6123 \n",
       "Dependent Variable: y                Log-Likelihood: -59.278 \n",
       "Date:               2021-07-14 09:36 LL-Null:        -146.01 \n",
       "No. Observations:   15               Deviance:       39.985  \n",
       "Df Model:           5                Pearson chi2:   42.5    \n",
       "Df Residuals:       9                Scale:          1.0000  \n",
       "Method:             IRLS                                     \n",
       "-------------------------------------------------------------\n",
       "               Coef.  Std.Err.    z    P>|z|   [0.025  0.975]\n",
       "-------------------------------------------------------------\n",
       "const         27.9918   3.2634  8.5775 0.0000 21.5957 34.3880\n",
       "Temp          -4.7708   0.5019 -9.5053 0.0000 -5.7545 -3.7870\n",
       "Oil            1.9909   0.5249  3.7931 0.0001  0.9621  3.0196\n",
       "Time          -0.2537   0.0372 -6.8230 0.0000 -0.3265 -0.1808\n",
       "Temp * Time    0.0506   0.0057  8.9154 0.0000  0.0395  0.0618\n",
       "Oil * Time    -0.0238   0.0059 -4.0022 0.0001 -0.0355 -0.0121\n",
       "=============================================================\n",
       "\n",
       "\"\"\""
      ]
     },
     "execution_count": 6,
     "metadata": {},
     "output_type": "execute_result"
    }
   ],
   "source": [
    "df_exog_2 = df_exog[[i for i in df_exog.columns if i != 'Temp * Oil']]\n",
    "model_reduced = sm.GLM(df_endog, df_exog_2,\n",
    "                       family = sm.families.Poisson(sm.families.links.log()),\n",
    "                       alpha = 0.05)\n",
    "res_reduced = model_reduced.fit()\n",
    "res_reduced.summary2()"
   ]
  },
  {
   "cell_type": "markdown",
   "id": "63597756",
   "metadata": {},
   "source": [
    "Remaining variables all show significant impact."
   ]
  },
  {
   "cell_type": "markdown",
   "id": "4ebcb28d",
   "metadata": {},
   "source": [
    "## Problem 1b"
   ]
  },
  {
   "cell_type": "code",
   "execution_count": 7,
   "id": "4f267591",
   "metadata": {},
   "outputs": [
    {
     "name": "stdout",
     "output_type": "stream",
     "text": [
      "Dispersion (D / df) = 8.0\n"
     ]
    }
   ],
   "source": [
    "disp = res_reduced.deviance / res_reduced.df_model\n",
    "print('Dispersion (D / df) = {}'.format(round(disp, 2)))"
   ]
  },
  {
   "cell_type": "markdown",
   "id": "9fd97246",
   "metadata": {},
   "source": [
    "Likely overdispersion."
   ]
  },
  {
   "cell_type": "markdown",
   "id": "5ccaf1c3",
   "metadata": {},
   "source": [
    "## Problem 1c"
   ]
  },
  {
   "cell_type": "markdown",
   "id": "b97230a8",
   "metadata": {},
   "source": [
    "### Reduced Poisson, *identity* link function"
   ]
  },
  {
   "cell_type": "code",
   "execution_count": 8,
   "id": "45644b04",
   "metadata": {},
   "outputs": [
    {
     "name": "stderr",
     "output_type": "stream",
     "text": [
      "/Users/jmiller/opt/anaconda3/lib/python3.8/site-packages/statsmodels/genmod/generalized_linear_model.py:293: DomainWarning: The identity link function does not respect the domain of the Poisson family.\n",
      "  warnings.warn((f\"The {type(family.link).__name__} link function \"\n",
      "/Users/jmiller/opt/anaconda3/lib/python3.8/site-packages/statsmodels/genmod/generalized_linear_model.py:293: DomainWarning: The identity link function does not respect the domain of the Poisson family.\n",
      "  warnings.warn((f\"The {type(family.link).__name__} link function \"\n"
     ]
    },
    {
     "data": {
      "text/html": [
       "<table class=\"simpletable\">\n",
       "<tr>\n",
       "        <td>Model:</td>               <td>GLM</td>            <td>AIC:</td>       <td>168.7367</td>\n",
       "</tr>\n",
       "<tr>\n",
       "    <td>Link Function:</td>        <td>identity</td>          <td>BIC:</td>        <td>53.7920</td>\n",
       "</tr>\n",
       "<tr>\n",
       "  <td>Dependent Variable:</td>         <td>y</td>        <td>Log-Likelihood:</td>  <td>-78.368</td>\n",
       "</tr>\n",
       "<tr>\n",
       "         <td>Date:</td>        <td>2021-07-14 09:36</td>    <td>LL-Null:</td>      <td>-146.01</td>\n",
       "</tr>\n",
       "<tr>\n",
       "   <td>No. Observations:</td>         <td>15</td>           <td>Deviance:</td>     <td>78.164</td> \n",
       "</tr>\n",
       "<tr>\n",
       "       <td>Df Model:</td>              <td>5</td>         <td>Pearson chi2:</td>    <td>80.1</td>  \n",
       "</tr>\n",
       "<tr>\n",
       "     <td>Df Residuals:</td>            <td>9</td>            <td>Scale:</td>       <td>1.0000</td> \n",
       "</tr>\n",
       "<tr>\n",
       "        <td>Method:</td>             <td>IRLS</td>              <td></td>             <td></td>    \n",
       "</tr>\n",
       "</table>\n",
       "<table class=\"simpletable\">\n",
       "<tr>\n",
       "       <td></td>         <th>Coef.</th>   <th>Std.Err.</th>    <th>z</th>     <th>P>|z|</th>  <th>[0.025</th>    <th>0.975]</th> \n",
       "</tr>\n",
       "<tr>\n",
       "  <th>const</th>       <td>679.9396</td>  <td>111.2702</td> <td>6.1107</td>  <td>0.0000</td> <td>461.8540</td>  <td>898.0251</td>\n",
       "</tr>\n",
       "<tr>\n",
       "  <th>Temp</th>        <td>-128.2427</td>  <td>16.0021</td> <td>-8.0141</td> <td>0.0000</td> <td>-159.6062</td> <td>-96.8792</td>\n",
       "</tr>\n",
       "<tr>\n",
       "  <th>Oil</th>          <td>60.6622</td>   <td>17.1033</td> <td>3.5468</td>  <td>0.0004</td>  <td>27.1404</td>   <td>94.1839</td>\n",
       "</tr>\n",
       "<tr>\n",
       "  <th>Time</th>         <td>-6.3492</td>   <td>1.1955</td>  <td>-5.3111</td> <td>0.0000</td>  <td>-8.6922</td>   <td>-4.0061</td>\n",
       "</tr>\n",
       "<tr>\n",
       "  <th>Temp * Time</th>  <td>1.3111</td>    <td>0.1734</td>  <td>7.5611</td>  <td>0.0000</td>  <td>0.9712</td>    <td>1.6509</td> \n",
       "</tr>\n",
       "<tr>\n",
       "  <th>Oil * Time</th>   <td>-0.7166</td>   <td>0.1832</td>  <td>-3.9124</td> <td>0.0001</td>  <td>-1.0756</td>   <td>-0.3576</td>\n",
       "</tr>\n",
       "</table>"
      ],
      "text/plain": [
       "<class 'statsmodels.iolib.summary2.Summary'>\n",
       "\"\"\"\n",
       "               Results: Generalized linear model\n",
       "================================================================\n",
       "Model:               GLM               AIC:             168.7367\n",
       "Link Function:       identity          BIC:             53.7920 \n",
       "Dependent Variable:  y                 Log-Likelihood:  -78.368 \n",
       "Date:                2021-07-14 09:36  LL-Null:         -146.01 \n",
       "No. Observations:    15                Deviance:        78.164  \n",
       "Df Model:            5                 Pearson chi2:    80.1    \n",
       "Df Residuals:        9                 Scale:           1.0000  \n",
       "Method:              IRLS                                       \n",
       "----------------------------------------------------------------\n",
       "              Coef.   Std.Err.    z    P>|z|    [0.025   0.975] \n",
       "----------------------------------------------------------------\n",
       "const        679.9396 111.2702  6.1107 0.0000  461.8540 898.0251\n",
       "Temp        -128.2427  16.0021 -8.0141 0.0000 -159.6062 -96.8792\n",
       "Oil           60.6622  17.1033  3.5468 0.0004   27.1404  94.1839\n",
       "Time          -6.3492   1.1955 -5.3111 0.0000   -8.6922  -4.0061\n",
       "Temp * Time    1.3111   0.1734  7.5611 0.0000    0.9712   1.6509\n",
       "Oil * Time    -0.7166   0.1832 -3.9124 0.0001   -1.0756  -0.3576\n",
       "================================================================\n",
       "\n",
       "\"\"\""
      ]
     },
     "execution_count": 8,
     "metadata": {},
     "output_type": "execute_result"
    }
   ],
   "source": [
    "model_poi_id = sm.GLM(df_endog, df_exog_2,\n",
    "                      family = sm.families.Poisson(sm.families.links.identity()),\n",
    "                      alpha = 0.05)\n",
    "res_poi_id = model_poi_id.fit()\n",
    "res_poi_id.summary2()"
   ]
  },
  {
   "cell_type": "markdown",
   "id": "84341a8e",
   "metadata": {},
   "source": [
    "AIC and BIC are lower for log link, therefore use that."
   ]
  },
  {
   "cell_type": "markdown",
   "id": "ed7aa1f3",
   "metadata": {},
   "source": [
    "### Q-Q, histogram, residual plots"
   ]
  },
  {
   "cell_type": "code",
   "execution_count": 9,
   "id": "c0e08029",
   "metadata": {},
   "outputs": [
    {
     "data": {
      "image/png": "[encoded data removed]",
      "text/plain": [
       "<Figure size 432x288 with 4 Axes>"
      ]
     },
     "metadata": {
      "needs_background": "light"
     },
     "output_type": "display_data"
    },
    {
     "data": {
      "image/png": "[encoded data removed]",
      "text/plain": [
       "<Figure size 432x288 with 4 Axes>"
      ]
     },
     "metadata": {
      "needs_background": "light"
     },
     "output_type": "display_data"
    },
    {
     "data": {
      "image/png": "[encoded data removed]",
      "text/plain": [
       "<Figure size 432x288 with 4 Axes>"
      ]
     },
     "metadata": {
      "needs_background": "light"
     },
     "output_type": "display_data"
    },
    {
     "data": {
      "image/png": "[encoded data removed]",
      "text/plain": [
       "<Figure size 432x288 with 4 Axes>"
      ]
     },
     "metadata": {
      "needs_background": "light"
     },
     "output_type": "display_data"
    }
   ],
   "source": [
    "for model in [res_reduced, res_poi_id]:\n",
    "    model_family = str(model.model.family).split('.')[-1].split(' ')[0]\n",
    "    model_link = str(model.model.family.link).split('.')[-1].split(' ')[0]\n",
    "    \n",
    "    ###########################\n",
    "    # Q-Q AND HISTOGRAM PLOTS #\n",
    "    ###########################\n",
    "    fig, ax = plt.subplots(2, 2)\n",
    "\n",
    "    sm.qqplot(model.resid_pearson, line = 'r', ax = ax[0, 0])\n",
    "    ax[0, 0].set_title('Q-Q Plot of Pearson Residuals')\n",
    "\n",
    "    sm.qqplot(model.resid_deviance, line = 'r', ax = ax[0, 1])\n",
    "    ax[0, 1].set_title('Q-Q Plot of Deviance Residuals')\n",
    "\n",
    "    pearson_min_bin = floor(min(model.resid_pearson))\n",
    "    pearson_max_bin = ceil(max(model.resid_pearson)) + 1\n",
    "    ax[1, 0].hist(model.resid_pearson,\n",
    "                  bins = range(pearson_min_bin, pearson_max_bin),\n",
    "                  rwidth = 0.8,\n",
    "                  align = 'left')\n",
    "    ax[1, 0].set_xticks([i for i in range(pearson_min_bin, pearson_max_bin)\n",
    "                         if i % 2 == 0])\n",
    "    ax[1, 0].set_title('Histogram of Pearson Residuals')\n",
    "\n",
    "    deviance_min_bin = floor(min(model.resid_deviance))\n",
    "    deviance_max_bin = ceil(max(model.resid_deviance)) + 1\n",
    "    ax[1, 1].hist(model.resid_deviance,\n",
    "                  bins = range(deviance_min_bin, deviance_max_bin),\n",
    "                  rwidth = 0.8,\n",
    "                  align = 'left')\n",
    "    ax[1, 1].set_xticks([i for i in range(deviance_min_bin, deviance_max_bin)\n",
    "                         if i % 2 == 0])\n",
    "    ax[1, 1].set_title('Histogram of Deviance Residuals')\n",
    "\n",
    "    fig_title = 'Family: {} | Link: {}'.format(model_family, model_link)\n",
    "    fig.suptitle(fig_title)\n",
    "    plt.tight_layout()\n",
    "    plt.show()\n",
    "\n",
    "    ##########################\n",
    "    # RESIDUALS VS VARIABLES #\n",
    "    ##########################\n",
    "    fig, ax = plt.subplots(2, 2)\n",
    "\n",
    "    sorted_temp = sorted(list(zip(df['Temp'], model.resid_pearson)))\n",
    "    sorted_temp_x = [i[0] for i in sorted_temp]\n",
    "    sorted_temp_y = [i[1] for i in sorted_temp]\n",
    "\n",
    "    ax[0, 0].scatter(sorted_temp_x, sorted_temp_y)\n",
    "    ax[0, 0].set_title('Residuals vs. Temp')\n",
    "\n",
    "    sorted_oil = sorted(list(zip(df['Oil'], model.resid_pearson)))\n",
    "    sorted_oil_x = [i[0] for i in sorted_oil]\n",
    "    sorted_oil_y = [i[1] for i in sorted_oil]\n",
    "\n",
    "    ax[0, 1].scatter(sorted_oil_x, sorted_oil_y)\n",
    "    ax[0, 1].set_title('Residuals vs. Oil')\n",
    "\n",
    "    sorted_time = sorted(list(zip(df['Time'], model.resid_pearson)))\n",
    "    sorted_time_x = [i[0] for i in sorted_time]\n",
    "    sorted_time_y = [i[1] for i in sorted_time]\n",
    "\n",
    "    ax[1, 0].scatter(sorted_time_x, sorted_time_y)\n",
    "    ax[1, 0].set_title('Residuals vs. Time')\n",
    "\n",
    "    fig_title = 'Family: {} | Link: {}'.format(model_family, model_link)\n",
    "    fig.suptitle(fig_title)\n",
    "    plt.tight_layout()\n",
    "    plt.show()"
   ]
  },
  {
   "cell_type": "markdown",
   "id": "6e82a0d0",
   "metadata": {},
   "source": [
    "Nothing stands out as abnormal in any of these plots, therefore either model likely ok to use for this analysis."
   ]
  },
  {
   "cell_type": "markdown",
   "id": "8ffb79a4",
   "metadata": {},
   "source": [
    "# Problem 2"
   ]
  },
  {
   "cell_type": "markdown",
   "id": "6a8f5758",
   "metadata": {},
   "source": [
    "Data setup and dataframe creation."
   ]
  },
  {
   "cell_type": "code",
   "execution_count": 10,
   "id": "272275a5",
   "metadata": {},
   "outputs": [
    {
     "data": {
      "text/html": [
       "<div>\n",
       "<style scoped>\n",
       "    .dataframe tbody tr th:only-of-type {\n",
       "        vertical-align: middle;\n",
       "    }\n",
       "\n",
       "    .dataframe tbody tr th {\n",
       "        vertical-align: top;\n",
       "    }\n",
       "\n",
       "    .dataframe thead th {\n",
       "        text-align: right;\n",
       "    }\n",
       "</style>\n",
       "<table border=\"1\" class=\"dataframe\">\n",
       "  <thead>\n",
       "    <tr style=\"text-align: right;\">\n",
       "      <th></th>\n",
       "      <th>const</th>\n",
       "      <th>bath_temperature</th>\n",
       "      <th>wave_height</th>\n",
       "      <th>overhead_preheater</th>\n",
       "      <th>preheater_1</th>\n",
       "      <th>preheater_2</th>\n",
       "      <th>air_knife</th>\n",
       "      <th>overhead_vibration</th>\n",
       "      <th>y</th>\n",
       "    </tr>\n",
       "  </thead>\n",
       "  <tbody>\n",
       "    <tr>\n",
       "      <th>0</th>\n",
       "      <td>1.0</td>\n",
       "      <td>248</td>\n",
       "      <td>4.38</td>\n",
       "      <td>340</td>\n",
       "      <td>340</td>\n",
       "      <td>340</td>\n",
       "      <td>0</td>\n",
       "      <td>0</td>\n",
       "      <td>4</td>\n",
       "    </tr>\n",
       "    <tr>\n",
       "      <th>1</th>\n",
       "      <td>1.0</td>\n",
       "      <td>248</td>\n",
       "      <td>4.38</td>\n",
       "      <td>360</td>\n",
       "      <td>360</td>\n",
       "      <td>360</td>\n",
       "      <td>3</td>\n",
       "      <td>2</td>\n",
       "      <td>2</td>\n",
       "    </tr>\n",
       "    <tr>\n",
       "      <th>2</th>\n",
       "      <td>1.0</td>\n",
       "      <td>248</td>\n",
       "      <td>4.38</td>\n",
       "      <td>380</td>\n",
       "      <td>380</td>\n",
       "      <td>380</td>\n",
       "      <td>6</td>\n",
       "      <td>4</td>\n",
       "      <td>1</td>\n",
       "    </tr>\n",
       "    <tr>\n",
       "      <th>3</th>\n",
       "      <td>1.0</td>\n",
       "      <td>248</td>\n",
       "      <td>4.40</td>\n",
       "      <td>340</td>\n",
       "      <td>360</td>\n",
       "      <td>360</td>\n",
       "      <td>3</td>\n",
       "      <td>4</td>\n",
       "      <td>2</td>\n",
       "    </tr>\n",
       "    <tr>\n",
       "      <th>4</th>\n",
       "      <td>1.0</td>\n",
       "      <td>248</td>\n",
       "      <td>4.40</td>\n",
       "      <td>360</td>\n",
       "      <td>380</td>\n",
       "      <td>380</td>\n",
       "      <td>6</td>\n",
       "      <td>0</td>\n",
       "      <td>6</td>\n",
       "    </tr>\n",
       "  </tbody>\n",
       "</table>\n",
       "</div>"
      ],
      "text/plain": [
       "   const  bath_temperature  wave_height  overhead_preheater  preheater_1  \\\n",
       "0    1.0               248         4.38                 340          340   \n",
       "1    1.0               248         4.38                 360          360   \n",
       "2    1.0               248         4.38                 380          380   \n",
       "3    1.0               248         4.40                 340          360   \n",
       "4    1.0               248         4.40                 360          380   \n",
       "\n",
       "   preheater_2  air_knife  overhead_vibration  y  \n",
       "0          340          0                   0  4  \n",
       "1          360          3                   2  2  \n",
       "2          380          6                   4  1  \n",
       "3          360          3                   4  2  \n",
       "4          380          6                   0  6  "
      ]
     },
     "execution_count": 10,
     "metadata": {},
     "output_type": "execute_result"
    }
   ],
   "source": [
    "data = {'bath_temperature': [248, 248, 248, 248, 248, 248, 248, 248, 248,\n",
    "                             252, 252, 252, 252, 252, 252, 252, 252, 252],\n",
    "        'wave_height': [4.38, 4.38, 4.38, 4.4, 4.4, 4.4, 4.42, 4.42, 4.42,\n",
    "                        4.38, 4.38, 4.38, 4.4, 4.4, 4.4, 4.42, 4.42, 4.42],\n",
    "        'overhead_preheater': [340, 360, 380, 340, 360, 380, 360, 380, 380,\n",
    "                               340, 360, 380, 340, 360, 380, 340, 360, 380],\n",
    "        'preheater_1': [340, 360, 380, 360, 380, 340, 340, 360, 340,\n",
    "                        380, 340, 360, 360, 380, 340, 380, 340, 360],\n",
    "        'preheater_2': [340, 360, 380, 360, 380, 340, 340, 360, 380,\n",
    "                        380, 340, 360, 380, 340, 360, 360, 380, 340],\n",
    "        'air_knife': [0, 3, 6, 3, 6, 0, 6, 0, 3, 3, 6, 0, 0, 3, 6, 6, 0, 3],\n",
    "        'overhead_vibration': [0, 2, 4, 4, 0, 2, 2, 4, 0,\n",
    "                               2, 4, 0, 4, 0, 2, 0, 2, 4],\n",
    "        'y': [4, 2, 1, 2, 6, 15, 9, 5, 8, 5, 4, 11, 10, 15, 4, 12, 6, 7]}\n",
    "\n",
    "df = pd.DataFrame(data)\n",
    "df = sm.add_constant(df)\n",
    "df.head()"
   ]
  },
  {
   "cell_type": "markdown",
   "id": "6d8ff27b",
   "metadata": {},
   "source": [
    "## Problem 2a"
   ]
  },
  {
   "cell_type": "code",
   "execution_count": 11,
   "id": "ffac9edc",
   "metadata": {},
   "outputs": [],
   "source": [
    "df_exog = df[['const', 'bath_temperature', 'wave_height', 'overhead_preheater',\n",
    "              'preheater_1', 'preheater_2', 'air_knife', 'overhead_vibration']]\n",
    "df_endog = df['y']"
   ]
  },
  {
   "cell_type": "markdown",
   "id": "1855886d",
   "metadata": {},
   "source": [
    "### Normal, identity link function"
   ]
  },
  {
   "cell_type": "code",
   "execution_count": 12,
   "id": "0cff26a3",
   "metadata": {},
   "outputs": [
    {
     "data": {
      "text/html": [
       "<table class=\"simpletable\">\n",
       "<tr>\n",
       "        <td>Model:</td>               <td>GLM</td>            <td>AIC:</td>       <td>101.4445</td>\n",
       "</tr>\n",
       "<tr>\n",
       "    <td>Link Function:</td>        <td>identity</td>          <td>BIC:</td>        <td>92.5351</td>\n",
       "</tr>\n",
       "<tr>\n",
       "  <td>Dependent Variable:</td>         <td>y</td>        <td>Log-Likelihood:</td>  <td>-42.722</td>\n",
       "</tr>\n",
       "<tr>\n",
       "         <td>Date:</td>        <td>2021-07-14 09:36</td>    <td>LL-Null:</td>      <td>-51.611</td>\n",
       "</tr>\n",
       "<tr>\n",
       "   <td>No. Observations:</td>         <td>18</td>           <td>Deviance:</td>     <td>121.44</td> \n",
       "</tr>\n",
       "<tr>\n",
       "       <td>Df Model:</td>              <td>7</td>         <td>Pearson chi2:</td>    <td>121.</td>  \n",
       "</tr>\n",
       "<tr>\n",
       "     <td>Df Residuals:</td>           <td>10</td>            <td>Scale:</td>       <td>12.144</td> \n",
       "</tr>\n",
       "<tr>\n",
       "        <td>Method:</td>             <td>IRLS</td>              <td></td>             <td></td>    \n",
       "</tr>\n",
       "</table>\n",
       "<table class=\"simpletable\">\n",
       "<tr>\n",
       "           <td></td>            <th>Coef.</th>   <th>Std.Err.</th>    <th>z</th>     <th>P>|z|</th>   <th>[0.025</th>    <th>0.975]</th> \n",
       "</tr>\n",
       "<tr>\n",
       "  <th>const</th>              <td>-527.4145</td> <td>247.9185</td> <td>-2.1274</td> <td>0.0334</td> <td>-1013.3259</td> <td>-41.5031</td>\n",
       "</tr>\n",
       "<tr>\n",
       "  <th>bath_temperature</th>    <td>0.5667</td>    <td>0.4184</td>  <td>1.3546</td>  <td>0.1756</td>   <td>-0.2533</td>   <td>1.3868</td> \n",
       "</tr>\n",
       "<tr>\n",
       "  <th>wave_height</th>         <td>89.9889</td>   <td>51.7073</td> <td>1.7404</td>  <td>0.0818</td>  <td>-11.3555</td>  <td>191.3333</td>\n",
       "</tr>\n",
       "<tr>\n",
       "  <th>overhead_preheater</th>  <td>0.0287</td>    <td>0.0533</td>  <td>0.5380</td>  <td>0.5905</td>   <td>-0.0758</td>   <td>0.1331</td> \n",
       "</tr>\n",
       "<tr>\n",
       "  <th>preheater_1</th>         <td>0.0686</td>    <td>0.0589</td>  <td>1.1653</td>  <td>0.2439</td>   <td>-0.0468</td>   <td>0.1840</td> \n",
       "</tr>\n",
       "<tr>\n",
       "  <th>preheater_2</th>         <td>-0.0955</td>   <td>0.0539</td>  <td>-1.7720</td> <td>0.0764</td>   <td>-0.2011</td>   <td>0.0101</td> \n",
       "</tr>\n",
       "<tr>\n",
       "  <th>air_knife</th>           <td>-0.5310</td>   <td>0.3494</td>  <td>-1.5198</td> <td>0.1286</td>   <td>-1.2158</td>   <td>0.1538</td> \n",
       "</tr>\n",
       "<tr>\n",
       "  <th>overhead_vibration</th>  <td>-1.0917</td>   <td>0.5065</td>  <td>-2.1552</td> <td>0.0311</td>   <td>-2.0845</td>   <td>-0.0989</td>\n",
       "</tr>\n",
       "</table>"
      ],
      "text/plain": [
       "<class 'statsmodels.iolib.summary2.Summary'>\n",
       "\"\"\"\n",
       "                   Results: Generalized linear model\n",
       "========================================================================\n",
       "Model:                   GLM                 AIC:               101.4445\n",
       "Link Function:           identity            BIC:               92.5351 \n",
       "Dependent Variable:      y                   Log-Likelihood:    -42.722 \n",
       "Date:                    2021-07-14 09:36    LL-Null:           -51.611 \n",
       "No. Observations:        18                  Deviance:          121.44  \n",
       "Df Model:                7                   Pearson chi2:      121.    \n",
       "Df Residuals:            10                  Scale:             12.144  \n",
       "Method:                  IRLS                                           \n",
       "------------------------------------------------------------------------\n",
       "                     Coef.   Std.Err.    z    P>|z|    [0.025    0.975] \n",
       "------------------------------------------------------------------------\n",
       "const              -527.4145 247.9185 -2.1274 0.0334 -1013.3259 -41.5031\n",
       "bath_temperature      0.5667   0.4184  1.3546 0.1756    -0.2533   1.3868\n",
       "wave_height          89.9889  51.7073  1.7404 0.0818   -11.3555 191.3333\n",
       "overhead_preheater    0.0287   0.0533  0.5380 0.5905    -0.0758   0.1331\n",
       "preheater_1           0.0686   0.0589  1.1653 0.2439    -0.0468   0.1840\n",
       "preheater_2          -0.0955   0.0539 -1.7720 0.0764    -0.2011   0.0101\n",
       "air_knife            -0.5310   0.3494 -1.5198 0.1286    -1.2158   0.1538\n",
       "overhead_vibration   -1.0917   0.5065 -2.1552 0.0311    -2.0845  -0.0989\n",
       "========================================================================\n",
       "\n",
       "\"\"\""
      ]
     },
     "execution_count": 12,
     "metadata": {},
     "output_type": "execute_result"
    }
   ],
   "source": [
    "model_glm = sm.GLM(df_endog, df_exog,\n",
    "                   family = sm.families.Gaussian(sm.families.links.identity()),\n",
    "                   alpha = 0.05)\n",
    "res_glm = model_glm.fit()\n",
    "res_glm.summary2()"
   ]
  },
  {
   "cell_type": "markdown",
   "id": "eee6a9af",
   "metadata": {},
   "source": [
    "### Full Poisson, identity link function"
   ]
  },
  {
   "cell_type": "code",
   "execution_count": 13,
   "id": "d379fda0",
   "metadata": {},
   "outputs": [
    {
     "name": "stderr",
     "output_type": "stream",
     "text": [
      "/Users/jmiller/opt/anaconda3/lib/python3.8/site-packages/statsmodels/genmod/generalized_linear_model.py:293: DomainWarning: The identity link function does not respect the domain of the Poisson family.\n",
      "  warnings.warn((f\"The {type(family.link).__name__} link function \"\n",
      "/Users/jmiller/opt/anaconda3/lib/python3.8/site-packages/statsmodels/genmod/generalized_linear_model.py:293: DomainWarning: The identity link function does not respect the domain of the Poisson family.\n",
      "  warnings.warn((f\"The {type(family.link).__name__} link function \"\n"
     ]
    },
    {
     "data": {
      "text/html": [
       "<table class=\"simpletable\">\n",
       "<tr>\n",
       "        <td>Model:</td>               <td>GLM</td>            <td>AIC:</td>        <td>97.1260</td>\n",
       "</tr>\n",
       "<tr>\n",
       "    <td>Link Function:</td>        <td>identity</td>          <td>BIC:</td>       <td>-12.7365</td>\n",
       "</tr>\n",
       "<tr>\n",
       "  <td>Dependent Variable:</td>         <td>y</td>        <td>Log-Likelihood:</td>  <td>-40.563</td>\n",
       "</tr>\n",
       "<tr>\n",
       "         <td>Date:</td>        <td>2021-07-14 09:36</td>    <td>LL-Null:</td>      <td>-54.793</td>\n",
       "</tr>\n",
       "<tr>\n",
       "   <td>No. Observations:</td>         <td>18</td>           <td>Deviance:</td>     <td>16.167</td> \n",
       "</tr>\n",
       "<tr>\n",
       "       <td>Df Model:</td>              <td>7</td>         <td>Pearson chi2:</td>    <td>16.9</td>  \n",
       "</tr>\n",
       "<tr>\n",
       "     <td>Df Residuals:</td>           <td>10</td>            <td>Scale:</td>       <td>1.0000</td> \n",
       "</tr>\n",
       "<tr>\n",
       "        <td>Method:</td>             <td>IRLS</td>              <td></td>             <td></td>    \n",
       "</tr>\n",
       "</table>\n",
       "<table class=\"simpletable\">\n",
       "<tr>\n",
       "           <td></td>            <th>Coef.</th>   <th>Std.Err.</th>    <th>z</th>     <th>P>|z|</th>  <th>[0.025</th>    <th>0.975]</th>  \n",
       "</tr>\n",
       "<tr>\n",
       "  <th>const</th>              <td>-610.2714</td> <td>183.0321</td> <td>-3.3342</td> <td>0.0009</td> <td>-969.0077</td> <td>-251.5351</td>\n",
       "</tr>\n",
       "<tr>\n",
       "  <th>bath_temperature</th>    <td>0.6998</td>    <td>0.2888</td>  <td>2.4230</td>  <td>0.0154</td>  <td>0.1337</td>    <td>1.2659</td>  \n",
       "</tr>\n",
       "<tr>\n",
       "  <th>wave_height</th>         <td>99.3022</td>   <td>37.2052</td> <td>2.6690</td>  <td>0.0076</td>  <td>26.3814</td>  <td>172.2231</td> \n",
       "</tr>\n",
       "<tr>\n",
       "  <th>overhead_preheater</th>  <td>0.0400</td>    <td>0.0352</td>  <td>1.1376</td>  <td>0.2553</td>  <td>-0.0290</td>   <td>0.1090</td>  \n",
       "</tr>\n",
       "<tr>\n",
       "  <th>preheater_1</th>         <td>0.0682</td>    <td>0.0461</td>  <td>1.4795</td>  <td>0.1390</td>  <td>-0.0221</td>   <td>0.1585</td>  \n",
       "</tr>\n",
       "<tr>\n",
       "  <th>preheater_2</th>         <td>-0.0838</td>   <td>0.0434</td>  <td>-1.9316</td> <td>0.0534</td>  <td>-0.1689</td>   <td>0.0012</td>  \n",
       "</tr>\n",
       "<tr>\n",
       "  <th>air_knife</th>           <td>-0.5059</td>   <td>0.2562</td>  <td>-1.9749</td> <td>0.0483</td>  <td>-1.0080</td>   <td>-0.0038</td> \n",
       "</tr>\n",
       "<tr>\n",
       "  <th>overhead_vibration</th>  <td>-0.9059</td>   <td>0.3521</td>  <td>-2.5728</td> <td>0.0101</td>  <td>-1.5960</td>   <td>-0.2158</td> \n",
       "</tr>\n",
       "</table>"
      ],
      "text/plain": [
       "<class 'statsmodels.iolib.summary2.Summary'>\n",
       "\"\"\"\n",
       "                   Results: Generalized linear model\n",
       "========================================================================\n",
       "Model:                   GLM                 AIC:               97.1260 \n",
       "Link Function:           identity            BIC:               -12.7365\n",
       "Dependent Variable:      y                   Log-Likelihood:    -40.563 \n",
       "Date:                    2021-07-14 09:36    LL-Null:           -54.793 \n",
       "No. Observations:        18                  Deviance:          16.167  \n",
       "Df Model:                7                   Pearson chi2:      16.9    \n",
       "Df Residuals:            10                  Scale:             1.0000  \n",
       "Method:                  IRLS                                           \n",
       "------------------------------------------------------------------------\n",
       "                     Coef.   Std.Err.    z    P>|z|    [0.025    0.975] \n",
       "------------------------------------------------------------------------\n",
       "const              -610.2714 183.0321 -3.3342 0.0009 -969.0077 -251.5351\n",
       "bath_temperature      0.6998   0.2888  2.4230 0.0154    0.1337    1.2659\n",
       "wave_height          99.3022  37.2052  2.6690 0.0076   26.3814  172.2231\n",
       "overhead_preheater    0.0400   0.0352  1.1376 0.2553   -0.0290    0.1090\n",
       "preheater_1           0.0682   0.0461  1.4795 0.1390   -0.0221    0.1585\n",
       "preheater_2          -0.0838   0.0434 -1.9316 0.0534   -0.1689    0.0012\n",
       "air_knife            -0.5059   0.2562 -1.9749 0.0483   -1.0080   -0.0038\n",
       "overhead_vibration   -0.9059   0.3521 -2.5728 0.0101   -1.5960   -0.2158\n",
       "========================================================================\n",
       "\n",
       "\"\"\""
      ]
     },
     "execution_count": 13,
     "metadata": {},
     "output_type": "execute_result"
    }
   ],
   "source": [
    "model_poisson = sm.GLM(df_endog, df_exog,\n",
    "                       family = sm.families.Poisson(sm.families.links.identity()),\n",
    "                       alpha = 0.05)\n",
    "res_poisson = model_poisson.fit()\n",
    "res_poisson.summary2()"
   ]
  },
  {
   "cell_type": "markdown",
   "id": "6a3693a1",
   "metadata": {},
   "source": [
    "Remove any variables where CI includes 0 and p > 0.05, i.e. overhead_preheater, preheater_1, preheater_2"
   ]
  },
  {
   "cell_type": "markdown",
   "id": "c02c6507",
   "metadata": {},
   "source": [
    "### Reduced Poisson, identity link function"
   ]
  },
  {
   "cell_type": "code",
   "execution_count": 14,
   "id": "91065137",
   "metadata": {},
   "outputs": [
    {
     "name": "stderr",
     "output_type": "stream",
     "text": [
      "/Users/jmiller/opt/anaconda3/lib/python3.8/site-packages/statsmodels/genmod/generalized_linear_model.py:293: DomainWarning: The identity link function does not respect the domain of the Poisson family.\n",
      "  warnings.warn((f\"The {type(family.link).__name__} link function \"\n",
      "/Users/jmiller/opt/anaconda3/lib/python3.8/site-packages/statsmodels/genmod/generalized_linear_model.py:293: DomainWarning: The identity link function does not respect the domain of the Poisson family.\n",
      "  warnings.warn((f\"The {type(family.link).__name__} link function \"\n"
     ]
    },
    {
     "data": {
      "text/html": [
       "<table class=\"simpletable\">\n",
       "<tr>\n",
       "        <td>Model:</td>               <td>GLM</td>            <td>AIC:</td>        <td>95.8069</td>\n",
       "</tr>\n",
       "<tr>\n",
       "    <td>Link Function:</td>        <td>identity</td>          <td>BIC:</td>       <td>-16.7267</td>\n",
       "</tr>\n",
       "<tr>\n",
       "  <td>Dependent Variable:</td>         <td>y</td>        <td>Log-Likelihood:</td>  <td>-42.903</td>\n",
       "</tr>\n",
       "<tr>\n",
       "         <td>Date:</td>        <td>2021-07-14 09:36</td>    <td>LL-Null:</td>      <td>-54.793</td>\n",
       "</tr>\n",
       "<tr>\n",
       "   <td>No. Observations:</td>         <td>18</td>           <td>Deviance:</td>     <td>20.848</td> \n",
       "</tr>\n",
       "<tr>\n",
       "       <td>Df Model:</td>              <td>4</td>         <td>Pearson chi2:</td>    <td>22.3</td>  \n",
       "</tr>\n",
       "<tr>\n",
       "     <td>Df Residuals:</td>           <td>13</td>            <td>Scale:</td>       <td>1.0000</td> \n",
       "</tr>\n",
       "<tr>\n",
       "        <td>Method:</td>             <td>IRLS</td>              <td></td>             <td></td>    \n",
       "</tr>\n",
       "</table>\n",
       "<table class=\"simpletable\">\n",
       "<tr>\n",
       "           <td></td>            <th>Coef.</th>   <th>Std.Err.</th>    <th>z</th>     <th>P>|z|</th>  <th>[0.025</th>    <th>0.975]</th>  \n",
       "</tr>\n",
       "<tr>\n",
       "  <th>const</th>              <td>-543.6999</td> <td>164.2827</td> <td>-3.3095</td> <td>0.0009</td> <td>-865.6880</td> <td>-221.7117</td>\n",
       "</tr>\n",
       "<tr>\n",
       "  <th>bath_temperature</th>    <td>0.6333</td>    <td>0.2787</td>  <td>2.2724</td>  <td>0.0231</td>  <td>0.0871</td>    <td>1.1796</td>  \n",
       "</tr>\n",
       "<tr>\n",
       "  <th>wave_height</th>         <td>89.8949</td>   <td>35.3360</td> <td>2.5440</td>  <td>0.0110</td>  <td>20.6376</td>  <td>159.1522</td> \n",
       "</tr>\n",
       "<tr>\n",
       "  <th>air_knife</th>           <td>-0.3881</td>   <td>0.2358</td>  <td>-1.6456</td> <td>0.0998</td>  <td>-0.8503</td>   <td>0.0741</td>  \n",
       "</tr>\n",
       "<tr>\n",
       "  <th>overhead_vibration</th>  <td>-1.0025</td>   <td>0.3546</td>  <td>-2.8270</td> <td>0.0047</td>  <td>-1.6976</td>   <td>-0.3075</td> \n",
       "</tr>\n",
       "</table>"
      ],
      "text/plain": [
       "<class 'statsmodels.iolib.summary2.Summary'>\n",
       "\"\"\"\n",
       "                   Results: Generalized linear model\n",
       "========================================================================\n",
       "Model:                   GLM                 AIC:               95.8069 \n",
       "Link Function:           identity            BIC:               -16.7267\n",
       "Dependent Variable:      y                   Log-Likelihood:    -42.903 \n",
       "Date:                    2021-07-14 09:36    LL-Null:           -54.793 \n",
       "No. Observations:        18                  Deviance:          20.848  \n",
       "Df Model:                4                   Pearson chi2:      22.3    \n",
       "Df Residuals:            13                  Scale:             1.0000  \n",
       "Method:                  IRLS                                           \n",
       "------------------------------------------------------------------------\n",
       "                     Coef.   Std.Err.    z    P>|z|    [0.025    0.975] \n",
       "------------------------------------------------------------------------\n",
       "const              -543.6999 164.2827 -3.3095 0.0009 -865.6880 -221.7117\n",
       "bath_temperature      0.6333   0.2787  2.2724 0.0231    0.0871    1.1796\n",
       "wave_height          89.8949  35.3360  2.5440 0.0110   20.6376  159.1522\n",
       "air_knife            -0.3881   0.2358 -1.6456 0.0998   -0.8503    0.0741\n",
       "overhead_vibration   -1.0025   0.3546 -2.8270 0.0047   -1.6976   -0.3075\n",
       "========================================================================\n",
       "\n",
       "\"\"\""
      ]
     },
     "execution_count": 14,
     "metadata": {},
     "output_type": "execute_result"
    }
   ],
   "source": [
    "df_exog_reduced = df_exog[['const', 'bath_temperature', 'wave_height',\n",
    "                           'air_knife', 'overhead_vibration']]\n",
    "model_poi_reduced = sm.GLM(df_endog, df_exog_reduced,\n",
    "                           family = sm.families.Poisson(\n",
    "                               sm.families.links.identity()),\n",
    "                           alpha = 0.05)\n",
    "res_poi_reduced = model_poi_reduced.fit()\n",
    "res_poi_reduced.summary2()"
   ]
  },
  {
   "cell_type": "markdown",
   "id": "9ccf7a20",
   "metadata": {},
   "source": [
    "Both Poisson are similar in AIC/BIC, with reduced Poisson being slightly better performance. Normal distribution much larger."
   ]
  },
  {
   "cell_type": "markdown",
   "id": "68da65c8",
   "metadata": {},
   "source": [
    "## Problem 2b"
   ]
  },
  {
   "cell_type": "code",
   "execution_count": 15,
   "id": "5b70a797",
   "metadata": {},
   "outputs": [
    {
     "name": "stdout",
     "output_type": "stream",
     "text": [
      "-- GLM --\n",
      "Param: 89.99 | C Int: [-11.36 191.33] | p: 0.0818\n",
      "\"b\" value is: Not Significant\n",
      "\n",
      "-- Poisson --\n",
      "Param: 99.3 | C Int: [26.38 172.22] | p: 0.00761\n",
      "\"b\" value is: Significant\n",
      "\n",
      "-- Reduced Poisson --\n",
      "Param: 89.89 | C Int: [20.64 159.15] | p: 0.01096\n",
      "\"b\" value is: Significant\n",
      "\n"
     ]
    }
   ],
   "source": [
    "for i in [res_glm, res_poisson, res_poi_reduced]:\n",
    "    if i == res_glm:\n",
    "        family = 'GLM'\n",
    "    elif i == res_poisson:\n",
    "        family = 'Poisson'\n",
    "    elif i == res_poi_reduced:\n",
    "        family = 'Reduced Poisson'\n",
    "\n",
    "    param = round(i.params['wave_height'], 2)\n",
    "    conf_int_lo = round(i.conf_int().loc['wave_height'][0], 2)\n",
    "    conf_int_hi = round(i.conf_int().loc['wave_height'][1], 2)\n",
    "    p_val = round(i.pvalues['wave_height'], 5)\n",
    "    print('-- {} --\\nParam: {} | C Int: [{} {}] | p: {}'.\n",
    "          format(family,\n",
    "                 param,\n",
    "                 conf_int_lo,\n",
    "                 conf_int_hi,\n",
    "                 p_val))\n",
    "    if (conf_int_lo < 0 and conf_int_hi > 0) or p_val > alpha:\n",
    "        sig = 'Not Significant'\n",
    "    else:\n",
    "        sig = 'Significant'\n",
    "    print('\"b\" value is: {}\\n'.format(sig))"
   ]
  },
  {
   "cell_type": "markdown",
   "id": "1cdd3822",
   "metadata": {},
   "source": [
    "## Problem 2c"
   ]
  },
  {
   "cell_type": "code",
   "execution_count": 16,
   "id": "4b68c354",
   "metadata": {},
   "outputs": [],
   "source": [
    "model_family = 'Reduced Poisson'\n",
    "model_link = 'Identity'"
   ]
  },
  {
   "cell_type": "markdown",
   "id": "50790799",
   "metadata": {},
   "source": [
    "### Q-Q, histogram plots"
   ]
  },
  {
   "cell_type": "code",
   "execution_count": 17,
   "id": "6afbe441",
   "metadata": {},
   "outputs": [
    {
     "data": {
      "image/png": "[encoded data removed]",
      "text/plain": [
       "<Figure size 432x288 with 4 Axes>"
      ]
     },
     "metadata": {
      "needs_background": "light"
     },
     "output_type": "display_data"
    }
   ],
   "source": [
    "fig, ax = plt.subplots(2, 2)\n",
    "\n",
    "sm.qqplot(res_poi_reduced.resid_pearson, line = 'r', ax = ax[0, 0])\n",
    "ax[0, 0].set_title('Q-Q Plot of Pearson Residuals')\n",
    "\n",
    "sm.qqplot(res_poi_reduced.resid_deviance, line = 'r', ax = ax[0, 1])\n",
    "ax[0, 1].set_title('Q-Q Plot of Deviance Residuals')\n",
    "\n",
    "pearson_min_bin = floor(min(res_poi_reduced.resid_pearson))\n",
    "pearson_max_bin = ceil(max(res_poi_reduced.resid_pearson)) + 1\n",
    "ax[1, 0].hist(res_poi_reduced.resid_pearson,\n",
    "              bins = range(pearson_min_bin, pearson_max_bin),\n",
    "              rwidth = 0.8,\n",
    "              align = 'left')\n",
    "ax[1, 0].set_xticks([i for i in range(pearson_min_bin, pearson_max_bin)\n",
    "                     if i % 2 == 0])\n",
    "ax[1, 0].set_title('Histogram of Pearson Residuals')\n",
    "\n",
    "deviance_min_bin = floor(min(res_poi_reduced.resid_deviance))\n",
    "deviance_max_bin = ceil(max(res_poi_reduced.resid_deviance)) + 1\n",
    "ax[1, 1].hist(res_poi_reduced.resid_deviance,\n",
    "              bins = range(deviance_min_bin, deviance_max_bin),\n",
    "              rwidth = 0.8,\n",
    "              align = 'left')\n",
    "ax[1, 1].set_xticks([i for i in range(deviance_min_bin, deviance_max_bin)\n",
    "                     if i % 2 == 0])\n",
    "ax[1, 1].set_title('Histogram of Deviance Residuals')\n",
    "\n",
    "fig_title = 'Family: {} | Link: {}'.format(model_family, model_link)\n",
    "fig.suptitle(fig_title)\n",
    "plt.tight_layout()\n",
    "plt.show()"
   ]
  },
  {
   "cell_type": "markdown",
   "id": "d02b363d",
   "metadata": {},
   "source": [
    "### Residual plots"
   ]
  },
  {
   "cell_type": "code",
   "execution_count": 18,
   "id": "bb5e66ab",
   "metadata": {},
   "outputs": [
    {
     "data": {
      "image/png": "[encoded data removed]",
      "text/plain": [
       "<Figure size 432x288 with 4 Axes>"
      ]
     },
     "metadata": {
      "needs_background": "light"
     },
     "output_type": "display_data"
    }
   ],
   "source": [
    "fig, ax = plt.subplots(2, 2)\n",
    "\n",
    "sorted_wave_height = sorted(list(zip(df['wave_height'],\n",
    "                                     res_poi_reduced.resid_pearson)))\n",
    "sorted_wave_height_x = [i[0] for i in sorted_wave_height]\n",
    "sorted_wave_height_y = [i[1] for i in sorted_wave_height]\n",
    "\n",
    "ax[0, 0].scatter(sorted_wave_height_x, sorted_wave_height_y)\n",
    "ax[0, 0].set_title('Residuals vs. Wave Height')\n",
    "\n",
    "sorted_preheater_2 = sorted(list(zip(df['preheater_2'],\n",
    "                                     res_poi_reduced.resid_pearson)))\n",
    "sorted_preheater_2_x = [i[0] for i in sorted_preheater_2]\n",
    "sorted_preheater_2_y = [i[1] for i in sorted_preheater_2]\n",
    "\n",
    "ax[0, 1].scatter(sorted_preheater_2_x, sorted_preheater_2_y)\n",
    "ax[0, 1].set_title('Residuals vs. Preheater 2')\n",
    "\n",
    "sorted_air_knife = sorted(list(zip(df['air_knife'],\n",
    "                                   res_poi_reduced.resid_pearson)))\n",
    "sorted_air_knife_x = [i[0] for i in sorted_air_knife]\n",
    "sorted_air_knife_y = [i[1] for i in sorted_air_knife]\n",
    "\n",
    "ax[1, 0].scatter(sorted_air_knife_x, sorted_air_knife_y)\n",
    "ax[1, 0].set_title('Residuals vs. Air Knife')\n",
    "\n",
    "sorted_overhead_vibration = sorted(list(zip(df['overhead_vibration'],\n",
    "                                            res_poi_reduced.resid_pearson)))\n",
    "sorted_overhead_vibration_x = [i[0] for i in sorted_overhead_vibration]\n",
    "sorted_overhead_vibration_y = [i[1] for i in sorted_overhead_vibration]\n",
    "\n",
    "ax[1, 1].scatter(sorted_overhead_vibration_x, sorted_overhead_vibration_y)\n",
    "ax[1, 1].set_title('Residuals vs. Overhead Vibration')\n",
    "\n",
    "fig_title = 'P2 Family: {} | Link: {}'.format(model_family, model_link)\n",
    "fig.suptitle(fig_title)\n",
    "plt.tight_layout()\n",
    "plt.show()"
   ]
  },
  {
   "cell_type": "markdown",
   "id": "d1b584cc",
   "metadata": {},
   "source": [
    "### Parameter value to minimize response"
   ]
  },
  {
   "cell_type": "code",
   "execution_count": 19,
   "id": "d43d50d6",
   "metadata": {},
   "outputs": [
    {
     "name": "stdout",
     "output_type": "stream",
     "text": [
      "-- bath_temperature --\n",
      "Minimize at: 248\n",
      "\n",
      "-- wave_height --\n",
      "Minimize at: 4.38\n",
      "\n",
      "-- overhead_preheater --\n",
      "Minimize at: 340\n",
      "\n",
      "-- preheater_1 --\n",
      "Minimize at: 360\n",
      "\n",
      "-- preheater_2 --\n",
      "Minimize at: 360\n",
      "\n",
      "-- air_knife --\n",
      "Minimize at: 6\n",
      "\n",
      "-- overhead_vibration --\n",
      "Minimize at: 4\n",
      "\n"
     ]
    }
   ],
   "source": [
    "for i in df.columns:\n",
    "    if i in ['const', 'y']:\n",
    "        continue\n",
    "    means = df.groupby([i]).mean()['y']\n",
    "    print('-- {} --\\nMinimize at: {}\\n'.format(i, means.idxmin()))"
   ]
  }
 ],
 "metadata": {
  "kernelspec": {
   "display_name": "Python 3",
   "language": "python",
   "name": "python3"
  },
  "language_info": {
   "codemirror_mode": {
    "name": "ipython",
    "version": 3
   },
   "file_extension": ".py",
   "mimetype": "text/x-python",
   "name": "python",
   "nbconvert_exporter": "python",
   "pygments_lexer": "ipython3",
   "version": "3.8.10"
  }
 },
 "nbformat": 4,
 "nbformat_minor": 5
}
