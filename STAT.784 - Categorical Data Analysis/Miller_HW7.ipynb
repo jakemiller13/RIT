{
 "cells": [
  {
   "cell_type": "markdown",
   "id": "934aed0a",
   "metadata": {},
   "source": [
    "# Import Packages"
   ]
  },
  {
   "cell_type": "code",
   "execution_count": 1,
   "id": "762996fc",
   "metadata": {},
   "outputs": [],
   "source": [
    "import numpy as np\n",
    "import pandas as pd\n",
    "import statsmodels.api as sm\n",
    "import matplotlib.pyplot as plt"
   ]
  },
  {
   "cell_type": "markdown",
   "id": "bfd915c3",
   "metadata": {},
   "source": [
    "# Problem 1"
   ]
  },
  {
   "cell_type": "code",
   "execution_count": 2,
   "id": "66c4dc27",
   "metadata": {},
   "outputs": [],
   "source": [
    "data_1 = {'Decade': [1900, 1910, 1920, 1930, 1940, 1950, 1960, 1970, 1980],\n",
    "          'Percent Complete': [72.7, 63.4, 50.0, 44.3, 41.6,\n",
    "                               32.8, 27.2, 22.5, 13.3]}\n",
    "df_1 = pd.DataFrame(data_1)\n",
    "df_1 = sm.add_constant(df_1)\n",
    "\n",
    "endog_1 = df_1['Percent Complete'] / 100\n",
    "exog_1 = df_1[['const', 'Decade']]"
   ]
  },
  {
   "cell_type": "markdown",
   "id": "5e0bf820",
   "metadata": {},
   "source": [
    "## Problem 1a"
   ]
  },
  {
   "cell_type": "markdown",
   "id": "6a04c64d",
   "metadata": {},
   "source": [
    "### Linear Probability Model"
   ]
  },
  {
   "cell_type": "code",
   "execution_count": 3,
   "id": "c0719a13",
   "metadata": {},
   "outputs": [
    {
     "name": "stdout",
     "output_type": "stream",
     "text": [
      "              Results: Generalized linear model\n",
      "=============================================================\n",
      "Model:              GLM              AIC:            11.2715 \n",
      "Link Function:      identity         BIC:            -15.3531\n",
      "Dependent Variable: Percent Complete Log-Likelihood: -3.6357 \n",
      "Date:               2021-07-21 21:22 LL-Null:        -4.2644 \n",
      "No. Observations:   9                Deviance:       0.027466\n",
      "Df Model:           1                Pearson chi2:   0.0274  \n",
      "Df Residuals:       7                Scale:          1.0000  \n",
      "Method:             IRLS                                     \n",
      "--------------------------------------------------------------\n",
      "           Coef.   Std.Err.     z     P>|z|    [0.025   0.975]\n",
      "--------------------------------------------------------------\n",
      "const     13.8784   10.5666   1.3134  0.1890  -6.8317  34.5885\n",
      "Decade    -0.0069    0.0054  -1.2782  0.2012  -0.0176   0.0037\n",
      "=============================================================\n",
      "\n"
     ]
    },
    {
     "name": "stderr",
     "output_type": "stream",
     "text": [
      "/Users/jmiller/opt/anaconda3/lib/python3.8/site-packages/statsmodels/genmod/generalized_linear_model.py:293: DomainWarning: The identity link function does not respect the domain of the Binomial family.\n",
      "  warnings.warn((f\"The {type(family.link).__name__} link function \"\n",
      "/Users/jmiller/opt/anaconda3/lib/python3.8/site-packages/statsmodels/genmod/generalized_linear_model.py:293: DomainWarning: The identity link function does not respect the domain of the Binomial family.\n",
      "  warnings.warn((f\"The {type(family.link).__name__} link function \"\n"
     ]
    }
   ],
   "source": [
    "lpm_mod = sm.GLM(endog_1, exog_1,\n",
    "                 family = sm.families.Binomial(sm.families.links.identity()))\n",
    "lpm_res = lpm_mod.fit()\n",
    "print(lpm_res.summary2())"
   ]
  },
  {
   "cell_type": "markdown",
   "id": "27377a87",
   "metadata": {},
   "source": [
    "### Logistic Regression Model"
   ]
  },
  {
   "cell_type": "code",
   "execution_count": 4,
   "id": "14d62134",
   "metadata": {},
   "outputs": [
    {
     "name": "stdout",
     "output_type": "stream",
     "text": [
      "              Results: Generalized linear model\n",
      "=============================================================\n",
      "Model:              GLM              AIC:            11.2727 \n",
      "Link Function:      logit            BIC:            -15.3519\n",
      "Dependent Variable: Percent Complete Log-Likelihood: -3.6363 \n",
      "Date:               2021-07-21 21:22 LL-Null:        -4.2644 \n",
      "No. Observations:   9                Deviance:       0.028640\n",
      "Df Model:           1                Pearson chi2:   0.0285  \n",
      "Df Residuals:       7                Scale:          1.0000  \n",
      "Method:             IRLS                                     \n",
      "--------------------------------------------------------------\n",
      "         Coef.   Std.Err.     z     P>|z|    [0.025    0.975] \n",
      "--------------------------------------------------------------\n",
      "const   60.7428   58.3444   1.0411  0.2978  -53.6101  175.0957\n",
      "Decade  -0.0315    0.0301  -1.0466  0.2953   -0.0906    0.0275\n",
      "=============================================================\n",
      "\n"
     ]
    }
   ],
   "source": [
    "logit_mod = sm.GLM(endog_1, exog_1,\n",
    "                   family = sm.families.Binomial(sm.families.links.logit()))\n",
    "logit_res = logit_mod.fit()\n",
    "print(logit_res.summary2())"
   ]
  },
  {
   "cell_type": "markdown",
   "id": "e23c8744",
   "metadata": {},
   "source": [
    "### Probit Model"
   ]
  },
  {
   "cell_type": "code",
   "execution_count": 5,
   "id": "66b01207",
   "metadata": {},
   "outputs": [
    {
     "name": "stdout",
     "output_type": "stream",
     "text": [
      "              Results: Generalized linear model\n",
      "=============================================================\n",
      "Model:              GLM              AIC:            11.2714 \n",
      "Link Function:      probit           BIC:            -15.3532\n",
      "Dependent Variable: Percent Complete Log-Likelihood: -3.6357 \n",
      "Date:               2021-07-21 21:22 LL-Null:        -4.2644 \n",
      "No. Observations:   9                Deviance:       0.027371\n",
      "Df Model:           1                Pearson chi2:   0.0273  \n",
      "Df Residuals:       7                Scale:          1.0000  \n",
      "Method:             IRLS                                     \n",
      "--------------------------------------------------------------\n",
      "         Coef.   Std.Err.     z     P>|z|    [0.025    0.975] \n",
      "--------------------------------------------------------------\n",
      "const   37.1663   34.4110   1.0801  0.2801  -30.2782  104.6107\n",
      "Decade  -0.0193    0.0178  -1.0864  0.2773   -0.0541    0.0155\n",
      "=============================================================\n",
      "\n"
     ]
    }
   ],
   "source": [
    "probit_mod = sm.GLM(endog_1, exog_1,\n",
    "                    family = sm.families.Binomial(sm.families.links.probit()))\n",
    "probit_res = probit_mod.fit()\n",
    "print(probit_res.summary2())"
   ]
  },
  {
   "cell_type": "markdown",
   "id": "884807e7",
   "metadata": {},
   "source": [
    "### Ordinary Least Squares Regression"
   ]
  },
  {
   "cell_type": "code",
   "execution_count": 6,
   "id": "69d966ce",
   "metadata": {},
   "outputs": [
    {
     "name": "stdout",
     "output_type": "stream",
     "text": [
      "                  Results: Ordinary least squares\n",
      "===================================================================\n",
      "Model:              OLS              Adj. R-squared:     0.976     \n",
      "Dependent Variable: Percent Complete AIC:                -35.9471  \n",
      "Date:               2021-07-21 21:22 BIC:                -35.5527  \n",
      "No. Observations:   9                Log-Likelihood:     19.974    \n",
      "Df Model:           1                F-statistic:        326.5     \n",
      "Df Residuals:       7                Prob (F-statistic): 3.93e-07  \n",
      "R-squared:          0.979            Scale:              0.00088925\n",
      "---------------------------------------------------------------------\n",
      "            Coef.    Std.Err.      t       P>|t|     [0.025    0.975]\n",
      "---------------------------------------------------------------------\n",
      "const      13.9046     0.7469    18.6158   0.0000   12.1384   15.6708\n",
      "Decade     -0.0070     0.0004   -18.0703   0.0000   -0.0079   -0.0060\n",
      "-------------------------------------------------------------------\n",
      "Omnibus:              0.536         Durbin-Watson:           1.318 \n",
      "Prob(Omnibus):        0.765         Jarque-Bera (JB):        0.462 \n",
      "Skew:                 -0.423        Prob(JB):                0.794 \n",
      "Kurtosis:             2.282         Condition No.:           145789\n",
      "===================================================================\n",
      "* The condition number is large (1e+05). This might indicate\n",
      "strong multicollinearity or other numerical problems.\n"
     ]
    },
    {
     "name": "stderr",
     "output_type": "stream",
     "text": [
      "/Users/jmiller/opt/anaconda3/lib/python3.8/site-packages/scipy/stats/stats.py:1603: UserWarning: kurtosistest only valid for n>=20 ... continuing anyway, n=9\n",
      "  warnings.warn(\"kurtosistest only valid for n>=20 ... continuing \"\n"
     ]
    }
   ],
   "source": [
    "ols_mod = sm.OLS(endog_1, exog_1)\n",
    "ols_res = ols_mod.fit()\n",
    "print(ols_res.summary2())"
   ]
  },
  {
   "cell_type": "markdown",
   "id": "9de7c6a7",
   "metadata": {},
   "source": [
    "## Problem 1b"
   ]
  },
  {
   "cell_type": "code",
   "execution_count": 7,
   "id": "805a161d",
   "metadata": {},
   "outputs": [
    {
     "data": {
      "image/png": "[encoded data removed]",
      "text/plain": [
       "<Figure size 432x288 with 1 Axes>"
      ]
     },
     "metadata": {
      "needs_background": "light"
     },
     "output_type": "display_data"
    }
   ],
   "source": [
    "for model in [lpm_res, logit_res, probit_res]:\n",
    "    plt.plot(range(len(model.predict())),\n",
    "             model.predict(),\n",
    "             label = str(model.family.link).split('.')[-1].split(' ')[0])\n",
    "plt.plot(range(len(ols_res.predict())), ols_res.predict(), label = 'OLS')\n",
    "plt.scatter(range(len(df_1['Percent Complete'])),\n",
    "            df_1['Percent Complete'] / 100)\n",
    "plt.xlabel('Decade (19#0)')\n",
    "plt.ylabel('Fraction of games completed')\n",
    "plt.legend()\n",
    "plt.text(0.1, 0.3, 'Fits are generally ok\\nexcept for 1920s and 1930s')\n",
    "plt.show()"
   ]
  },
  {
   "cell_type": "markdown",
   "id": "28f0334f",
   "metadata": {},
   "source": [
    "## Problem 1c"
   ]
  },
  {
   "cell_type": "code",
   "execution_count": 8,
   "id": "4a7a0724",
   "metadata": {},
   "outputs": [
    {
     "name": "stdout",
     "output_type": "stream",
     "text": [
      "--- identity ---\n",
      "1990: 0.0636\n",
      "2000: -0.0059\n",
      "2010: -0.0753\n",
      "\n",
      "--- logit ---\n",
      "1990: 0.1187\n",
      "2000: 0.0895\n",
      "2010: 0.0669\n",
      "Plausible because yields all positive but decreasing values\n",
      "\n",
      "--- probit ---\n",
      "1990: 0.1105\n",
      "2000: 0.0783\n",
      "2010: 0.0537\n",
      "Plausible because yields all positive but decreasing values\n",
      "\n",
      "--- OLS ---\n",
      "1990: 0.0608\n",
      "2000: -0.0087\n",
      "2010: -0.0783\n",
      "\n"
     ]
    }
   ],
   "source": [
    "for model in [lpm_res, logit_res, probit_res, ols_res]:\n",
    "    predict = model.predict([[1, 1990], [1, 2000], [1, 2010]])\n",
    "    try:\n",
    "        print('--- {} ---'.format(\n",
    "            str(model.family.link).split('.')[-1].split(' ')[0]))\n",
    "    except AttributeError:\n",
    "        print('--- OLS ---')\n",
    "    [print('{}: {}'.format(year, round(predict[pred], 4)))\n",
    "     for pred, year in enumerate([1990, 2000, 2010])]\n",
    "    if (predict > 0).all():\n",
    "        print('Plausible because yields all positive but decreasing values')\n",
    "    print()"
   ]
  },
  {
   "cell_type": "markdown",
   "id": "57d878be",
   "metadata": {},
   "source": [
    "## Problem 2"
   ]
  },
  {
   "cell_type": "markdown",
   "id": "72f1bfac",
   "metadata": {},
   "source": [
    "D = duration of surgery in minutes\n",
    "T = type of device (0 = laryngeal mask airway, 1 = tracheal tube)\n",
    "Y = sore throat (0 = no, 1 = yes)"
   ]
  },
  {
   "cell_type": "code",
   "execution_count": 9,
   "id": "a7e0abcb",
   "metadata": {},
   "outputs": [],
   "source": [
    "data_2 = {'Patient': range(1, 36),\n",
    "          'D': [45, 15, 40, 83, 90, 25, 35, 65, 95, 35, 75, 45,\n",
    "                50, 75, 30, 25, 20, 60, 70, 30, 60, 61, 65, 15,\n",
    "                20, 45, 15, 25, 15, 30, 40, 15, 135, 20, 40],\n",
    "          'T': [0, 0, 0, 1, 1, 1, 0, 0, 0, 0, 0, 1,\n",
    "                1, 1, 0, 0, 1, 1, 1, 0, 0, 0, 0, 1,\n",
    "                1, 0, 1, 0, 1, 0, 0, 1, 1, 1, 1],\n",
    "          'Y': [0, 0, 1, 1, 1, 1, 1, 1, 1, 1, 1, 1,\n",
    "                0, 1, 0, 1, 0, 1, 1, 1, 1, 0, 1, 0,\n",
    "                0, 1, 0, 1, 0, 1, 1, 0, 1, 0, 0]}\n",
    "\n",
    "df_2 = pd.DataFrame(data_2)\n",
    "df_2 = sm.add_constant(df_2)\n",
    "\n",
    "endog_2 = df_2['Y']\n",
    "exog_2 = df_2[['const', 'D', 'T']]"
   ]
  },
  {
   "cell_type": "markdown",
   "id": "eb9ea22a",
   "metadata": {},
   "source": [
    "## Problem 2a"
   ]
  },
  {
   "cell_type": "code",
   "execution_count": 10,
   "id": "ab3e1831",
   "metadata": {},
   "outputs": [
    {
     "name": "stdout",
     "output_type": "stream",
     "text": [
      "              Results: Generalized linear model\n",
      "=============================================================\n",
      "Model:              GLM              AIC:            36.1379 \n",
      "Link Function:      logit            BIC:            -83.6332\n",
      "Dependent Variable: Y                Log-Likelihood: -15.069 \n",
      "Date:               2021-07-21 21:22 LL-Null:        -23.090 \n",
      "No. Observations:   35               Deviance:       30.138  \n",
      "Df Model:           2                Pearson chi2:   37.0    \n",
      "Df Residuals:       32               Scale:          1.0000  \n",
      "Method:             IRLS                                     \n",
      "--------------------------------------------------------------\n",
      "            Coef.   Std.Err.     z     P>|z|    [0.025  0.975]\n",
      "--------------------------------------------------------------\n",
      "const      -1.4173    1.0946  -1.2949  0.1954  -3.5627  0.7280\n",
      "D           0.0687    0.0264   2.6002  0.0093   0.0169  0.1204\n",
      "T          -1.6589    0.9229  -1.7976  0.0722  -3.4677  0.1498\n",
      "=============================================================\n",
      "\n",
      "-- Pearson --\n",
      "Value / DoF = 36.955 / 32 = 1.155\n",
      "\n",
      "-- Deviance --\n",
      "Value / DoF = 30.138 / 32 = 0.942\n",
      "\n",
      "Both close to 1, therefore fit is ok\n"
     ]
    }
   ],
   "source": [
    "logit_mod_2 = sm.GLM(endog_2, exog_2,\n",
    "                     family = sm.families.Binomial(sm.families.links.logit()))\n",
    "logit_res_2 = logit_mod_2.fit()\n",
    "print(logit_res_2.summary2())\n",
    "print('-- Pearson --\\nValue / DoF = {} / {} = {}'.format(\n",
    "    round(logit_res_2.pearson_chi2, 3),\n",
    "    logit_res_2.df_resid,\n",
    "    round(logit_res_2.pearson_chi2 / logit_res_2.df_resid, 3)))\n",
    "print('\\n-- Deviance --\\nValue / DoF = {} / {} = {}'.format(\n",
    "    round(logit_res_2.deviance, 3),\n",
    "    logit_res_2.df_resid,\n",
    "    round(logit_res_2.deviance / logit_res_2.df_resid, 3)))\n",
    "print('\\nBoth close to 1, therefore fit is ok')"
   ]
  },
  {
   "cell_type": "markdown",
   "id": "619482af",
   "metadata": {},
   "source": [
    "## Problem 2b"
   ]
  },
  {
   "cell_type": "code",
   "execution_count": 11,
   "id": "5611daf0",
   "metadata": {},
   "outputs": [
    {
     "data": {
      "image/png": "[encoded data removed]",
      "text/plain": [
       "<Figure size 432x288 with 1 Axes>"
      ]
     },
     "metadata": {
      "needs_background": "light"
     },
     "output_type": "display_data"
    }
   ],
   "source": [
    "df_2['Predicted'] = logit_res_2.predict()\n",
    "df_2 = df_2.sort_values('D')\n",
    "x_0 = df_2[df_2['T'] == 0]\n",
    "x_1 = df_2[df_2['T'] == 1]\n",
    "\n",
    "plt.plot(x_0['D'], x_0['Predicted'], label = 'laryngeal mask airway')\n",
    "plt.plot(x_1['D'], x_1['Predicted'], label = 'tracheal tube')\n",
    "plt.xlabel('Duration (Minutes)')\n",
    "plt.ylabel('Probability')\n",
    "plt.title('Problem 2b')\n",
    "plt.legend()\n",
    "plt.text(80, 0.6, 'As duration increases, so does\\nprobability of sore throat')\n",
    "plt.show()"
   ]
  },
  {
   "cell_type": "markdown",
   "id": "931d9e99",
   "metadata": {},
   "source": [
    "## Problem 2c"
   ]
  },
  {
   "cell_type": "code",
   "execution_count": 12,
   "id": "60217cbc",
   "metadata": {},
   "outputs": [
    {
     "name": "stdout",
     "output_type": "stream",
     "text": [
      "             5%       95%  Odds Ratio\n",
      "const  0.028362  2.070998    0.242358\n",
      "D      1.017054  1.127999    1.071091\n",
      "T      0.031188  1.161646    0.190339\n",
      "\n",
      "For 10 minute increase, a person is between 1.02 and 1.13 times as likely to get sore throat.\n"
     ]
    }
   ],
   "source": [
    "conf_int = logit_res_2.conf_int()\n",
    "conf_int.columns = ['5%', '95%']\n",
    "conf_int['Odds Ratio'] = logit_res_2.params\n",
    "conf_int = np.exp(conf_int)\n",
    "print(conf_int)\n",
    "print()\n",
    "\n",
    "print('For 10 minute increase, a person is between {} and {} times as likely '\n",
    "      'to get sore throat.'.format(round(conf_int['5%']['D'], 2),\n",
    "                                   round(conf_int['95%']['D'], 2)))"
   ]
  },
  {
   "cell_type": "markdown",
   "id": "fe2fea54",
   "metadata": {},
   "source": [
    "## Problem 2d"
   ]
  },
  {
   "cell_type": "code",
   "execution_count": 13,
   "id": "526ce5ae",
   "metadata": {},
   "outputs": [
    {
     "name": "stdout",
     "output_type": "stream",
     "text": [
      "A person who had a sore throat after surgery is between 0.03 and 1.16 times as likely to have received a tracheal tube instead of a laryngeal mask airway.\n"
     ]
    }
   ],
   "source": [
    "print('A person who had a sore throat after surgery is between {} and {} '\n",
    "      'times as likely to have received a tracheal tube instead of a '\n",
    "      'laryngeal mask airway.'.format(round(conf_int['5%']['T'], 2),\n",
    "                                      round(conf_int['95%']['T'], 2)))"
   ]
  },
  {
   "cell_type": "markdown",
   "id": "00742782",
   "metadata": {},
   "source": [
    "## Problem 2e"
   ]
  },
  {
   "cell_type": "code",
   "execution_count": 14,
   "id": "25313cbe",
   "metadata": {},
   "outputs": [
    {
     "data": {
      "image/png": "[encoded data removed]",
      "text/plain": [
       "<Figure size 432x288 with 1 Axes>"
      ]
     },
     "metadata": {
      "needs_background": "light"
     },
     "output_type": "display_data"
    },
    {
     "name": "stdout",
     "output_type": "stream",
     "text": [
      "Pearson residuals:\n",
      "0    -2.308457\n",
      "1    -0.823998\n",
      "2     0.514333\n",
      "3     0.269286\n",
      "4     0.211749\n",
      "5     1.973232\n",
      "6     0.610675\n",
      "7     0.217979\n",
      "8     0.077807\n",
      "9     0.610675\n",
      "10    0.154626\n",
      "11    0.992920\n",
      "12   -1.195781\n",
      "13    0.354420\n",
      "14   -1.379190\n",
      "15    0.860879\n",
      "16   -0.426831\n",
      "17    0.593221\n",
      "18    0.420809\n",
      "19    0.725063\n",
      "20    0.258810\n",
      "21   -3.998830\n",
      "22    0.217979\n",
      "23   -0.359493\n",
      "24   -0.426831\n",
      "25    0.433190\n",
      "26   -0.359493\n",
      "27    0.860879\n",
      "28   -0.359493\n",
      "29    0.725063\n",
      "30    0.514333\n",
      "31   -0.359493\n",
      "32    0.045157\n",
      "33   -0.426831\n",
      "34   -0.848242\n",
      "dtype: float64\n",
      "\n",
      "Based on residuals and Q-Q plot, it appears there are some issues at extreme values, but middle region looks ok.\n"
     ]
    }
   ],
   "source": [
    "sm.qqplot(logit_res_2.resid_pearson, line = 'r')\n",
    "plt.title('Q-Q Plot of Pearson Residuals')\n",
    "plt.show()\n",
    "\n",
    "print('Pearson residuals:\\n{}\\n'.format(logit_res_2.resid_pearson))\n",
    "print('Based on residuals and Q-Q plot, it appears there are some issues at '\n",
    "      'extreme values, but middle region looks ok.')"
   ]
  },
  {
   "cell_type": "markdown",
   "id": "492fdec4",
   "metadata": {},
   "source": [
    "## Problem 2f"
   ]
  },
  {
   "cell_type": "markdown",
   "id": "ed5648fb",
   "metadata": {},
   "source": [
    "Goodness of fit suggests this model is good. Residuals are not obviously perfect, showing some issues at extremes, but otherwise are mostly ok. Therefore this model is probably ok."
   ]
  },
  {
   "cell_type": "markdown",
   "id": "2331627e",
   "metadata": {},
   "source": [
    "# Problem 3"
   ]
  },
  {
   "cell_type": "code",
   "execution_count": 15,
   "id": "851d5033",
   "metadata": {},
   "outputs": [],
   "source": [
    "df_3 = pd.read_excel('/Users/jmiller/Google Drive/RIT/'\n",
    "                     'STAT.784 - Categorical Data Analysis/umaru.xlsx')"
   ]
  },
  {
   "cell_type": "markdown",
   "id": "da7754a2",
   "metadata": {},
   "source": [
    "## Problem 3a"
   ]
  },
  {
   "cell_type": "markdown",
   "id": "af2afcac",
   "metadata": {},
   "source": [
    "IV Drug Use History at Admission is qualitative. We can code these 3 levels (1 = Never, 2 = Previous, 3 = Recent) by using 2 dummy variables."
   ]
  },
  {
   "cell_type": "markdown",
   "id": "0e7d9177",
   "metadata": {},
   "source": [
    "## Problem 3b"
   ]
  },
  {
   "cell_type": "code",
   "execution_count": 16,
   "id": "39e491c9",
   "metadata": {},
   "outputs": [
    {
     "name": "stdout",
     "output_type": "stream",
     "text": [
      "               Results: Generalized linear model\n",
      "===============================================================\n",
      "Model:              GLM              AIC:            651.9921  \n",
      "Link Function:      logit            BIC:            -2966.9357\n",
      "Dependent Variable: dfree            Log-Likelihood: -318.00   \n",
      "Date:               2021-07-21 21:22 LL-Null:        -326.86   \n",
      "No. Observations:   575              Deviance:       635.99    \n",
      "Df Model:           7                Pearson chi2:   588.      \n",
      "Df Residuals:       567              Scale:          1.0000    \n",
      "Method:             IRLS                                       \n",
      "----------------------------------------------------------------\n",
      "             Coef.   Std.Err.     z     P>|z|    [0.025   0.975]\n",
      "----------------------------------------------------------------\n",
      "age         -0.0118    0.0082  -1.4313  0.1523  -0.0279   0.0044\n",
      "beck        -0.0162    0.0100  -1.6297  0.1032  -0.0358   0.0033\n",
      "ndrugtx     -0.0618    0.0257  -2.4078  0.0160  -0.1122  -0.0115\n",
      "race         0.1901    0.2220   0.8561  0.3919  -0.2451   0.6252\n",
      "treat        0.2654    0.1907   1.3912  0.1642  -0.1085   0.6392\n",
      "site         0.0177    0.2130   0.0831  0.9337  -0.3998   0.4352\n",
      "ivhx_2      -0.4390    0.2780  -1.5787  0.1144  -0.9839   0.1060\n",
      "ivhx_3      -0.5719    0.2440  -2.3436  0.0191  -1.0502  -0.0936\n",
      "===============================================================\n",
      "\n",
      "-- Pearson --\n",
      "Value / DoF = 588.282 / 567 = 1.038\n",
      "\n",
      "-- Deviance --\n",
      "Value / DoF = 635.992 / 567 = 1.122\n",
      "\n",
      "Both close to 1, therefore fit is ok\n"
     ]
    }
   ],
   "source": [
    "df_3 = df_3.join(pd.get_dummies(df_3['ivhx'],\n",
    "                                prefix = 'ivhx',\n",
    "                                drop_first = True))\n",
    "df_3 = df_3.drop(['ivhx'], axis = 1)\n",
    "\n",
    "endog_3 = df_3['dfree']\n",
    "exog_3 = df_3[['age', 'beck', 'ndrugtx', 'race', 'treat', 'site', 'ivhx_2',\n",
    "               'ivhx_3']]\n",
    "\n",
    "logit_mod_3 = sm.GLM(endog_3, exog_3,\n",
    "                     family = sm.families.Binomial(sm.families.links.logit()))\n",
    "logit_res_3 = logit_mod_3.fit()\n",
    "print(logit_res_3.summary2())\n",
    "\n",
    "print('-- Pearson --\\nValue / DoF = {} / {} = {}'.format(\n",
    "    round(logit_res_3.pearson_chi2, 3),\n",
    "    logit_res_3.df_resid,\n",
    "    round(logit_res_3.pearson_chi2 / logit_res_3.df_resid, 3)))\n",
    "print('\\n-- Deviance --\\nValue / DoF = {} / {} = {}'.format(\n",
    "    round(logit_res_3.deviance, 3),\n",
    "    logit_res_3.df_resid,\n",
    "    round(logit_res_3.deviance / logit_res_3.df_resid, 3)))\n",
    "print('\\nBoth close to 1, therefore fit is ok')"
   ]
  },
  {
   "cell_type": "markdown",
   "id": "d9d63d8b",
   "metadata": {},
   "source": [
    "## Problem 3c"
   ]
  },
  {
   "cell_type": "markdown",
   "id": "13f0ede0",
   "metadata": {},
   "source": [
    "Race parameter interval includes 0, therefore unclear how much race would contribute to final prediction. I would likely remove this variable from the final model."
   ]
  },
  {
   "cell_type": "markdown",
   "id": "82c8436e",
   "metadata": {},
   "source": [
    "## Problem 3d"
   ]
  },
  {
   "cell_type": "markdown",
   "id": "76244a5d",
   "metadata": {},
   "source": [
    "The interval for IVHX 2 vs 1 includes 0, therefore I would likely drop this from model. However, IVHX 3 vs 1 clearly has a negative impact on final prediction.\n"
   ]
  }
 ],
 "metadata": {
  "kernelspec": {
   "display_name": "Python 3",
   "language": "python",
   "name": "python3"
  },
  "language_info": {
   "codemirror_mode": {
    "name": "ipython",
    "version": 3
   },
   "file_extension": ".py",
   "mimetype": "text/x-python",
   "name": "python",
   "nbconvert_exporter": "python",
   "pygments_lexer": "ipython3",
   "version": "3.8.10"
  }
 },
 "nbformat": 4,
 "nbformat_minor": 5
}
